{
 "cells": [
  {
   "cell_type": "code",
   "execution_count": 1,
   "metadata": {},
   "outputs": [],
   "source": [
    "import numpy as np\n",
    "import matplotlib.pyplot as plt\n",
    "import random\n",
    "import seaborn as sns\n",
    "import pandas as pd\n",
    "from collections import Counter\n",
    "pd.set_option('display.max_columns', 50)"
   ]
  },
  {
   "cell_type": "code",
   "execution_count": 2,
   "metadata": {},
   "outputs": [],
   "source": [
    "orders = pd.read_csv('../Data/Processed/orders.csv', encoding='utf-8')"
   ]
  },
  {
   "cell_type": "code",
   "execution_count": 3,
   "metadata": {},
   "outputs": [
    {
     "data": {
      "text/html": [
       "<div>\n",
       "<style scoped>\n",
       "    .dataframe tbody tr th:only-of-type {\n",
       "        vertical-align: middle;\n",
       "    }\n",
       "\n",
       "    .dataframe tbody tr th {\n",
       "        vertical-align: top;\n",
       "    }\n",
       "\n",
       "    .dataframe thead th {\n",
       "        text-align: right;\n",
       "    }\n",
       "</style>\n",
       "<table border=\"1\" class=\"dataframe\">\n",
       "  <thead>\n",
       "    <tr style=\"text-align: right;\">\n",
       "      <th></th>\n",
       "      <th>order_id</th>\n",
       "      <th>customer_id</th>\n",
       "      <th>order_status</th>\n",
       "      <th>order_purchase_timestamp</th>\n",
       "      <th>order_approved_at</th>\n",
       "      <th>order_delivered_carrier_date</th>\n",
       "      <th>order_delivered_customer_date</th>\n",
       "      <th>order_estimated_delivery_date</th>\n",
       "      <th>payment_sequential</th>\n",
       "      <th>payment_type</th>\n",
       "      <th>payment_installments</th>\n",
       "      <th>payment_value</th>\n",
       "      <th>customer_unique_id</th>\n",
       "      <th>customer_zip_code_prefix</th>\n",
       "      <th>customer_city</th>\n",
       "      <th>customer_state</th>\n",
       "      <th>review_id</th>\n",
       "      <th>review_score</th>\n",
       "      <th>review_comment_title</th>\n",
       "      <th>review_comment_message</th>\n",
       "      <th>review_creation_date</th>\n",
       "      <th>review_answer_timestamp</th>\n",
       "      <th>order_item_id</th>\n",
       "      <th>seller_id</th>\n",
       "      <th>product_id</th>\n",
       "      <th>shipping_limit_date</th>\n",
       "      <th>price</th>\n",
       "      <th>freight_value</th>\n",
       "      <th>product_category_name</th>\n",
       "      <th>product_name_lenght</th>\n",
       "      <th>product_description_lenght</th>\n",
       "      <th>product_photos_qty</th>\n",
       "      <th>product_weight_g</th>\n",
       "      <th>product_length_cm</th>\n",
       "      <th>product_height_cm</th>\n",
       "      <th>product_width_cm</th>\n",
       "    </tr>\n",
       "  </thead>\n",
       "  <tbody>\n",
       "    <tr>\n",
       "      <th>0</th>\n",
       "      <td>e481f51cbdc54678b7cc49136f2d6af7</td>\n",
       "      <td>9ef432eb6251297304e76186b10a928d</td>\n",
       "      <td>delivered</td>\n",
       "      <td>2017-10-02 10:56:33</td>\n",
       "      <td>2017-10-02 11:07:15</td>\n",
       "      <td>2017-10-04 19:55:00</td>\n",
       "      <td>2017-10-10 21:25:13</td>\n",
       "      <td>2017-10-18 00:00:00</td>\n",
       "      <td>1.0</td>\n",
       "      <td>credit_card</td>\n",
       "      <td>1.0</td>\n",
       "      <td>18.12</td>\n",
       "      <td>7c396fd4830fd04220f754e42b4e5bff</td>\n",
       "      <td>3149.0</td>\n",
       "      <td>sao paulo</td>\n",
       "      <td>SP</td>\n",
       "      <td>a54f0611adc9ed256b57ede6b6eb5114</td>\n",
       "      <td>4.0</td>\n",
       "      <td>O cliente não comentou</td>\n",
       "      <td>Não testei o produto ainda, mas ele veio corre...</td>\n",
       "      <td>2017-10-11 00:00:00</td>\n",
       "      <td>2017-10-12 03:43:48</td>\n",
       "      <td>1.0</td>\n",
       "      <td>3504c0cb71d7fa48d967e0e4c94d59d9</td>\n",
       "      <td>87285b34884572647811a353c7ac498a</td>\n",
       "      <td>2017-10-06 11:07:15</td>\n",
       "      <td>29.99</td>\n",
       "      <td>8.72</td>\n",
       "      <td>utilidades_domesticas</td>\n",
       "      <td>40.0</td>\n",
       "      <td>268.0</td>\n",
       "      <td>4.0</td>\n",
       "      <td>500.0</td>\n",
       "      <td>19.0</td>\n",
       "      <td>8.0</td>\n",
       "      <td>13.0</td>\n",
       "    </tr>\n",
       "    <tr>\n",
       "      <th>1</th>\n",
       "      <td>53cdb2fc8bc7dce0b6741e2150273451</td>\n",
       "      <td>b0830fb4747a6c6d20dea0b8c802d7ef</td>\n",
       "      <td>delivered</td>\n",
       "      <td>2018-07-24 20:41:37</td>\n",
       "      <td>2018-07-26 03:24:27</td>\n",
       "      <td>2018-07-26 14:31:00</td>\n",
       "      <td>2018-08-07 15:27:45</td>\n",
       "      <td>2018-08-13 00:00:00</td>\n",
       "      <td>1.0</td>\n",
       "      <td>boleto</td>\n",
       "      <td>1.0</td>\n",
       "      <td>141.46</td>\n",
       "      <td>af07308b275d755c9edb36a90c618231</td>\n",
       "      <td>47813.0</td>\n",
       "      <td>barreiras</td>\n",
       "      <td>BA</td>\n",
       "      <td>8d5266042046a06655c8db133d120ba5</td>\n",
       "      <td>4.0</td>\n",
       "      <td>Muito boa a loja</td>\n",
       "      <td>Muito bom o produto.</td>\n",
       "      <td>2018-08-08 00:00:00</td>\n",
       "      <td>2018-08-08 18:37:50</td>\n",
       "      <td>1.0</td>\n",
       "      <td>289cdb325fb7e7f891c38608bf9e0962</td>\n",
       "      <td>595fac2a385ac33a80bd5114aec74eb8</td>\n",
       "      <td>2018-07-30 03:24:27</td>\n",
       "      <td>118.70</td>\n",
       "      <td>22.76</td>\n",
       "      <td>perfumaria</td>\n",
       "      <td>29.0</td>\n",
       "      <td>178.0</td>\n",
       "      <td>1.0</td>\n",
       "      <td>400.0</td>\n",
       "      <td>19.0</td>\n",
       "      <td>13.0</td>\n",
       "      <td>19.0</td>\n",
       "    </tr>\n",
       "    <tr>\n",
       "      <th>2</th>\n",
       "      <td>47770eb9100c2d0c44946d9cf07ec65d</td>\n",
       "      <td>41ce2a54c0b03bf3443c3d931a367089</td>\n",
       "      <td>delivered</td>\n",
       "      <td>2018-08-08 08:38:49</td>\n",
       "      <td>2018-08-08 08:55:23</td>\n",
       "      <td>2018-08-08 13:50:00</td>\n",
       "      <td>2018-08-17 18:06:29</td>\n",
       "      <td>2018-09-04 00:00:00</td>\n",
       "      <td>1.0</td>\n",
       "      <td>credit_card</td>\n",
       "      <td>3.0</td>\n",
       "      <td>179.12</td>\n",
       "      <td>3a653a41f6f9fc3d2a113cf8398680e8</td>\n",
       "      <td>75265.0</td>\n",
       "      <td>vianopolis</td>\n",
       "      <td>GO</td>\n",
       "      <td>e73b67b67587f7644d5bd1a52deb1b01</td>\n",
       "      <td>5.0</td>\n",
       "      <td>O cliente não comentou</td>\n",
       "      <td>O cliente não comentou</td>\n",
       "      <td>2018-08-18 00:00:00</td>\n",
       "      <td>2018-08-22 19:07:58</td>\n",
       "      <td>1.0</td>\n",
       "      <td>4869f7a5dfa277a7dca6462dcf3b52b2</td>\n",
       "      <td>aa4383b373c6aca5d8797843e5594415</td>\n",
       "      <td>2018-08-13 08:55:23</td>\n",
       "      <td>159.90</td>\n",
       "      <td>19.22</td>\n",
       "      <td>automotivo</td>\n",
       "      <td>46.0</td>\n",
       "      <td>232.0</td>\n",
       "      <td>1.0</td>\n",
       "      <td>420.0</td>\n",
       "      <td>24.0</td>\n",
       "      <td>19.0</td>\n",
       "      <td>21.0</td>\n",
       "    </tr>\n",
       "    <tr>\n",
       "      <th>3</th>\n",
       "      <td>949d5b44dbf5de918fe9c16f97b45f8a</td>\n",
       "      <td>f88197465ea7920adcdbec7375364d82</td>\n",
       "      <td>delivered</td>\n",
       "      <td>2017-11-18 19:28:06</td>\n",
       "      <td>2017-11-18 19:45:59</td>\n",
       "      <td>2017-11-22 13:39:59</td>\n",
       "      <td>2017-12-02 00:28:42</td>\n",
       "      <td>2017-12-15 00:00:00</td>\n",
       "      <td>1.0</td>\n",
       "      <td>credit_card</td>\n",
       "      <td>1.0</td>\n",
       "      <td>72.20</td>\n",
       "      <td>7c142cf63193a1473d2e66489a9ae977</td>\n",
       "      <td>59296.0</td>\n",
       "      <td>sao goncalo do amarante</td>\n",
       "      <td>RN</td>\n",
       "      <td>359d03e676b3c069f62cadba8dd3f6e8</td>\n",
       "      <td>5.0</td>\n",
       "      <td>O cliente não comentou</td>\n",
       "      <td>O produto foi exatamente o que eu esperava e e...</td>\n",
       "      <td>2017-12-03 00:00:00</td>\n",
       "      <td>2017-12-05 19:21:58</td>\n",
       "      <td>1.0</td>\n",
       "      <td>66922902710d126a0e7d26b0e3805106</td>\n",
       "      <td>d0b61bfb1de832b15ba9d266ca96e5b0</td>\n",
       "      <td>2017-11-23 19:45:59</td>\n",
       "      <td>45.00</td>\n",
       "      <td>27.20</td>\n",
       "      <td>pet_shop</td>\n",
       "      <td>59.0</td>\n",
       "      <td>468.0</td>\n",
       "      <td>3.0</td>\n",
       "      <td>450.0</td>\n",
       "      <td>30.0</td>\n",
       "      <td>10.0</td>\n",
       "      <td>20.0</td>\n",
       "    </tr>\n",
       "    <tr>\n",
       "      <th>4</th>\n",
       "      <td>ad21c59c0840e6cb83a9ceb5573f8159</td>\n",
       "      <td>8ab97904e6daea8866dbdbc4fb7aad2c</td>\n",
       "      <td>delivered</td>\n",
       "      <td>2018-02-13 21:18:39</td>\n",
       "      <td>2018-02-13 22:20:29</td>\n",
       "      <td>2018-02-14 19:46:34</td>\n",
       "      <td>2018-02-16 18:17:02</td>\n",
       "      <td>2018-02-26 00:00:00</td>\n",
       "      <td>1.0</td>\n",
       "      <td>credit_card</td>\n",
       "      <td>1.0</td>\n",
       "      <td>28.62</td>\n",
       "      <td>72632f0f9dd73dfee390c9b22eb56dd6</td>\n",
       "      <td>9195.0</td>\n",
       "      <td>santo andre</td>\n",
       "      <td>SP</td>\n",
       "      <td>e50934924e227544ba8246aeb3770dd4</td>\n",
       "      <td>5.0</td>\n",
       "      <td>O cliente não comentou</td>\n",
       "      <td>O cliente não comentou</td>\n",
       "      <td>2018-02-17 00:00:00</td>\n",
       "      <td>2018-02-18 13:02:51</td>\n",
       "      <td>1.0</td>\n",
       "      <td>2c9e548be18521d1c43cde1c582c6de8</td>\n",
       "      <td>65266b2da20d04dbe00c5c2d3bb7859e</td>\n",
       "      <td>2018-02-19 20:31:37</td>\n",
       "      <td>19.90</td>\n",
       "      <td>8.72</td>\n",
       "      <td>papelaria</td>\n",
       "      <td>38.0</td>\n",
       "      <td>316.0</td>\n",
       "      <td>4.0</td>\n",
       "      <td>250.0</td>\n",
       "      <td>51.0</td>\n",
       "      <td>15.0</td>\n",
       "      <td>15.0</td>\n",
       "    </tr>\n",
       "  </tbody>\n",
       "</table>\n",
       "</div>"
      ],
      "text/plain": [
       "                           order_id                       customer_id  \\\n",
       "0  e481f51cbdc54678b7cc49136f2d6af7  9ef432eb6251297304e76186b10a928d   \n",
       "1  53cdb2fc8bc7dce0b6741e2150273451  b0830fb4747a6c6d20dea0b8c802d7ef   \n",
       "2  47770eb9100c2d0c44946d9cf07ec65d  41ce2a54c0b03bf3443c3d931a367089   \n",
       "3  949d5b44dbf5de918fe9c16f97b45f8a  f88197465ea7920adcdbec7375364d82   \n",
       "4  ad21c59c0840e6cb83a9ceb5573f8159  8ab97904e6daea8866dbdbc4fb7aad2c   \n",
       "\n",
       "  order_status order_purchase_timestamp    order_approved_at  \\\n",
       "0    delivered      2017-10-02 10:56:33  2017-10-02 11:07:15   \n",
       "1    delivered      2018-07-24 20:41:37  2018-07-26 03:24:27   \n",
       "2    delivered      2018-08-08 08:38:49  2018-08-08 08:55:23   \n",
       "3    delivered      2017-11-18 19:28:06  2017-11-18 19:45:59   \n",
       "4    delivered      2018-02-13 21:18:39  2018-02-13 22:20:29   \n",
       "\n",
       "  order_delivered_carrier_date order_delivered_customer_date  \\\n",
       "0          2017-10-04 19:55:00           2017-10-10 21:25:13   \n",
       "1          2018-07-26 14:31:00           2018-08-07 15:27:45   \n",
       "2          2018-08-08 13:50:00           2018-08-17 18:06:29   \n",
       "3          2017-11-22 13:39:59           2017-12-02 00:28:42   \n",
       "4          2018-02-14 19:46:34           2018-02-16 18:17:02   \n",
       "\n",
       "  order_estimated_delivery_date  payment_sequential payment_type  \\\n",
       "0           2017-10-18 00:00:00                 1.0  credit_card   \n",
       "1           2018-08-13 00:00:00                 1.0       boleto   \n",
       "2           2018-09-04 00:00:00                 1.0  credit_card   \n",
       "3           2017-12-15 00:00:00                 1.0  credit_card   \n",
       "4           2018-02-26 00:00:00                 1.0  credit_card   \n",
       "\n",
       "   payment_installments  payment_value                customer_unique_id  \\\n",
       "0                   1.0          18.12  7c396fd4830fd04220f754e42b4e5bff   \n",
       "1                   1.0         141.46  af07308b275d755c9edb36a90c618231   \n",
       "2                   3.0         179.12  3a653a41f6f9fc3d2a113cf8398680e8   \n",
       "3                   1.0          72.20  7c142cf63193a1473d2e66489a9ae977   \n",
       "4                   1.0          28.62  72632f0f9dd73dfee390c9b22eb56dd6   \n",
       "\n",
       "   customer_zip_code_prefix            customer_city customer_state  \\\n",
       "0                    3149.0                sao paulo             SP   \n",
       "1                   47813.0                barreiras             BA   \n",
       "2                   75265.0               vianopolis             GO   \n",
       "3                   59296.0  sao goncalo do amarante             RN   \n",
       "4                    9195.0              santo andre             SP   \n",
       "\n",
       "                          review_id  review_score    review_comment_title  \\\n",
       "0  a54f0611adc9ed256b57ede6b6eb5114           4.0  O cliente não comentou   \n",
       "1  8d5266042046a06655c8db133d120ba5           4.0        Muito boa a loja   \n",
       "2  e73b67b67587f7644d5bd1a52deb1b01           5.0  O cliente não comentou   \n",
       "3  359d03e676b3c069f62cadba8dd3f6e8           5.0  O cliente não comentou   \n",
       "4  e50934924e227544ba8246aeb3770dd4           5.0  O cliente não comentou   \n",
       "\n",
       "                              review_comment_message review_creation_date  \\\n",
       "0  Não testei o produto ainda, mas ele veio corre...  2017-10-11 00:00:00   \n",
       "1                               Muito bom o produto.  2018-08-08 00:00:00   \n",
       "2                             O cliente não comentou  2018-08-18 00:00:00   \n",
       "3  O produto foi exatamente o que eu esperava e e...  2017-12-03 00:00:00   \n",
       "4                             O cliente não comentou  2018-02-17 00:00:00   \n",
       "\n",
       "  review_answer_timestamp  order_item_id                         seller_id  \\\n",
       "0     2017-10-12 03:43:48            1.0  3504c0cb71d7fa48d967e0e4c94d59d9   \n",
       "1     2018-08-08 18:37:50            1.0  289cdb325fb7e7f891c38608bf9e0962   \n",
       "2     2018-08-22 19:07:58            1.0  4869f7a5dfa277a7dca6462dcf3b52b2   \n",
       "3     2017-12-05 19:21:58            1.0  66922902710d126a0e7d26b0e3805106   \n",
       "4     2018-02-18 13:02:51            1.0  2c9e548be18521d1c43cde1c582c6de8   \n",
       "\n",
       "                         product_id  shipping_limit_date   price  \\\n",
       "0  87285b34884572647811a353c7ac498a  2017-10-06 11:07:15   29.99   \n",
       "1  595fac2a385ac33a80bd5114aec74eb8  2018-07-30 03:24:27  118.70   \n",
       "2  aa4383b373c6aca5d8797843e5594415  2018-08-13 08:55:23  159.90   \n",
       "3  d0b61bfb1de832b15ba9d266ca96e5b0  2017-11-23 19:45:59   45.00   \n",
       "4  65266b2da20d04dbe00c5c2d3bb7859e  2018-02-19 20:31:37   19.90   \n",
       "\n",
       "   freight_value  product_category_name  product_name_lenght  \\\n",
       "0           8.72  utilidades_domesticas                 40.0   \n",
       "1          22.76             perfumaria                 29.0   \n",
       "2          19.22             automotivo                 46.0   \n",
       "3          27.20               pet_shop                 59.0   \n",
       "4           8.72              papelaria                 38.0   \n",
       "\n",
       "   product_description_lenght  product_photos_qty  product_weight_g  \\\n",
       "0                       268.0                 4.0             500.0   \n",
       "1                       178.0                 1.0             400.0   \n",
       "2                       232.0                 1.0             420.0   \n",
       "3                       468.0                 3.0             450.0   \n",
       "4                       316.0                 4.0             250.0   \n",
       "\n",
       "   product_length_cm  product_height_cm  product_width_cm  \n",
       "0               19.0                8.0              13.0  \n",
       "1               19.0               13.0              19.0  \n",
       "2               24.0               19.0              21.0  \n",
       "3               30.0               10.0              20.0  \n",
       "4               51.0               15.0              15.0  "
      ]
     },
     "execution_count": 3,
     "metadata": {},
     "output_type": "execute_result"
    }
   ],
   "source": [
    "orders.head()"
   ]
  },
  {
   "cell_type": "markdown",
   "metadata": {},
   "source": [
    "# 1. Descriptive analysis"
   ]
  },
  {
   "cell_type": "code",
   "execution_count": 4,
   "metadata": {},
   "outputs": [],
   "source": [
    "orders['comment_present'] = orders.review_comment_message != 'O cliente não comentou'"
   ]
  },
  {
   "cell_type": "markdown",
   "metadata": {},
   "source": [
    "## 1.1 Answering to survey"
   ]
  },
  {
   "cell_type": "code",
   "execution_count": 5,
   "metadata": {},
   "outputs": [
    {
     "data": {
      "text/plain": [
       "(<seaborn.axisgrid.FacetGrid at 0x245233c1550>, count    95978.000000\n",
       " mean         4.144356\n",
       " std          1.294795\n",
       " min          1.000000\n",
       " 25%          4.000000\n",
       " 50%          5.000000\n",
       " 75%          5.000000\n",
       " max          5.000000\n",
       " Name: review_score, dtype: float64)"
      ]
     },
     "execution_count": 5,
     "metadata": {},
     "output_type": "execute_result"
    },
    {
     "data": {
      "image/png": "[encoded data removed]",
      "text/plain": [
       "<Figure size 458.25x360 with 1 Axes>"
      ]
     },
     "metadata": {
      "needs_background": "light"
     },
     "output_type": "display_data"
    }
   ],
   "source": [
    "sns.catplot(x='review_score', kind='count', data=orders, hue='comment_present')\\\n",
    ".set(xlabel='Review Score', ylabel='Number of Reviews', title='Reviews distribution'), orders.review_score.describe()"
   ]
  },
  {
   "cell_type": "markdown",
   "metadata": {},
   "source": [
    "Most reviews are good ones, we can see that the average review score is 4.14, with a median quartile at 5. Furthemore, for almost half of the orders Olist did not receive any customer feedback. Looking at the difference between 1 score reviews and 5 ones, we notice that customers who answered positively in the survey are less likely to leave comments while customers who gave bad feedback are more likely to do it."
   ]
  },
  {
   "cell_type": "markdown",
   "metadata": {},
   "source": [
    "## 1.2 Survey message length"
   ]
  },
  {
   "cell_type": "code",
   "execution_count": 6,
   "metadata": {},
   "outputs": [
    {
     "data": {
      "image/png": "[encoded data removed]",
      "text/plain": [
       "<Figure size 864x360 with 2 Axes>"
      ]
     },
     "metadata": {
      "needs_background": "light"
     },
     "output_type": "display_data"
    }
   ],
   "source": [
    "dims = (12, 5)\n",
    "fig, ax =plt.subplots(1,2,figsize=dims, sharex=True)\n",
    "fig.text(0.5, 0.04, 'Comment Length', ha='center')\n",
    "fig.text(0.04, 0.5, 'Number of review', va='center', rotation='vertical')\n",
    "\n",
    "fig.suptitle('Length of customer review comments. Negative reviews on the left and Positive ones on the right')\n",
    "orders[(orders['comment_present'] == True) & (orders['review_score'] == 1)]\\\n",
    ".review_comment_message.map(lambda x : len(str(x))).hist(ax=ax[0])\n",
    "orders[(orders['comment_present'] == True) & (orders['review_score'] == 5)]\\\n",
    ".review_comment_message.map(lambda x : len(str(x))).hist(ax=ax[1])\n",
    "\n",
    "plt.show()"
   ]
  },
  {
   "cell_type": "markdown",
   "metadata": {},
   "source": [
    "When looking at the survey comments between negative (score = 1) and positive (score = 5) feedbacks, we notice that positive feedbacks tend to be shorter and less succint than negative ones. "
   ]
  },
  {
   "cell_type": "markdown",
   "metadata": {},
   "source": [
    "# 2. Sentiment Analysis"
   ]
  },
  {
   "cell_type": "markdown",
   "metadata": {},
   "source": [
    "We will try to discover if there are recurrent pattern regarding negative or positive patterns, i.e, what were the customers complaining about or what did they really like ?\n",
    "\n",
    "Henceforth, we will only focus on orders for which the customers did leave an answer in the survey and for which the review score is 1 or 5. For those which they did not, we we will try to discover later what could have gone wrong."
   ]
  },
  {
   "cell_type": "code",
   "execution_count": 7,
   "metadata": {},
   "outputs": [],
   "source": [
    "orders_commented = orders[orders['comment_present'] == True]\n",
    "orders_commented = orders_commented[(orders_commented['review_score'] == 1) | (orders_commented['review_score'] == 5)]"
   ]
  },
  {
   "cell_type": "code",
   "execution_count": 8,
   "metadata": {},
   "outputs": [
    {
     "name": "stdout",
     "output_type": "stream",
     "text": [
      "<class 'pandas.core.frame.DataFrame'>\n",
      "Int64Index: 27903 entries, 3 to 95977\n",
      "Data columns (total 37 columns):\n",
      "order_id                         27903 non-null object\n",
      "customer_id                      27903 non-null object\n",
      "order_status                     27903 non-null object\n",
      "order_purchase_timestamp         27903 non-null object\n",
      "order_approved_at                27903 non-null object\n",
      "order_delivered_carrier_date     27903 non-null object\n",
      "order_delivered_customer_date    27903 non-null object\n",
      "order_estimated_delivery_date    27903 non-null object\n",
      "payment_sequential               27903 non-null float64\n",
      "payment_type                     27903 non-null object\n",
      "payment_installments             27903 non-null float64\n",
      "payment_value                    27903 non-null float64\n",
      "customer_unique_id               27903 non-null object\n",
      "customer_zip_code_prefix         27903 non-null float64\n",
      "customer_city                    27903 non-null object\n",
      "customer_state                   27903 non-null object\n",
      "review_id                        27903 non-null object\n",
      "review_score                     27903 non-null float64\n",
      "review_comment_title             27903 non-null object\n",
      "review_comment_message           27903 non-null object\n",
      "review_creation_date             27901 non-null object\n",
      "review_answer_timestamp          27901 non-null object\n",
      "order_item_id                    27901 non-null float64\n",
      "seller_id                        27901 non-null object\n",
      "product_id                       27901 non-null object\n",
      "shipping_limit_date              27901 non-null object\n",
      "price                            27901 non-null float64\n",
      "freight_value                    27901 non-null float64\n",
      "product_category_name            27476 non-null object\n",
      "product_name_lenght              27476 non-null float64\n",
      "product_description_lenght       27476 non-null float64\n",
      "product_photos_qty               27476 non-null float64\n",
      "product_weight_g                 27891 non-null float64\n",
      "product_length_cm                27891 non-null float64\n",
      "product_height_cm                27891 non-null float64\n",
      "product_width_cm                 27891 non-null float64\n",
      "comment_present                  27903 non-null bool\n",
      "dtypes: bool(1), float64(15), object(21)\n",
      "memory usage: 7.9+ MB\n"
     ]
    }
   ],
   "source": [
    "orders_commented.info()"
   ]
  },
  {
   "cell_type": "code",
   "execution_count": 9,
   "metadata": {},
   "outputs": [],
   "source": [
    "orders_commented = orders_commented.astype({\"order_status\" : 'category', \\\n",
    "                       \"order_purchase_timestamp\" : 'datetime64[ns]', \"order_approved_at\" : 'datetime64[ns]', \\\n",
    "                       \"order_delivered_carrier_date\" : 'datetime64[ns]', \"order_delivered_customer_date\" : 'datetime64[ns]', \\\n",
    "                       \"order_estimated_delivery_date\" : 'datetime64[ns]', 'review_creation_date':'datetime64[ns]', \\\n",
    "                        \"review_answer_timestamp\" : 'datetime64[ns]', \"shipping_limit_date\" : 'datetime64[ns]', \\\n",
    "                        \"product_category_name\" : 'category', \n",
    "                       })"
   ]
  },
  {
   "cell_type": "markdown",
   "metadata": {},
   "source": [
    "## 2.1 Customer Experience"
   ]
  },
  {
   "cell_type": "markdown",
   "metadata": {},
   "source": [
    "What customers like and dislike the most about Olist's experience ? "
   ]
  },
  {
   "cell_type": "code",
   "execution_count": 10,
   "metadata": {},
   "outputs": [],
   "source": [
    "import nltk\n",
    "import unicodedata"
   ]
  },
  {
   "cell_type": "code",
   "execution_count": 11,
   "metadata": {},
   "outputs": [],
   "source": [
    "# Source\n",
    "#https://stackoverflow.com/questions/14682397/how-does-unicodedata-normalizeform-unistr-work\n",
    "#https://en.wikipedia.org/wiki/Unicode_equivalence\n",
    "def normalize_form(sentence):\n",
    "    return unicodedata.normalize('NFKD', sentence).encode('ascii', errors='ignore').decode('utf-8')\n",
    "\n",
    "stopw = set(normalize_form(w) for w in nltk.corpus.stopwords.words('portuguese'))\n",
    "stopw.remove('nao') #useful to understand sentiment\n",
    "\n",
    "\n",
    "def sentence_to_words(sentence):\n",
    "    normalized = normalize_form(sentence.lower())\n",
    "    tokens = nltk.tokenize.word_tokenize(normalized)\n",
    "    words = tuple(t for t in tokens if t not in stopw and t.isalpha())\n",
    "    return words\n",
    "\n",
    "def words_to_ngrams(words):\n",
    "    trigrams = []\n",
    "    for w in words:\n",
    "        trigrams.extend(' '.join(trigram) for trigram in nltk.trigrams(w))\n",
    "    \n",
    "    return trigrams"
   ]
  },
  {
   "cell_type": "code",
   "execution_count": 12,
   "metadata": {},
   "outputs": [],
   "source": [
    "orders_commented['review_comment_words'] = orders_commented['review_comment_message'].apply(sentence_to_words)\n",
    "\n",
    "positive_reviews = orders_commented[orders_commented['review_score'] == 5]\n",
    "negative_reviews = orders_commented[orders_commented['review_score'] == 1]\n",
    "\n",
    "positive_trigrams = words_to_ngrams(positive_reviews['review_comment_words'])\n",
    "negative_trigrams = words_to_ngrams(negative_reviews['review_comment_words'])"
   ]
  },
  {
   "cell_type": "markdown",
   "metadata": {},
   "source": [
    "**Are there important topics where extra caution is advised ?**"
   ]
  },
  {
   "cell_type": "code",
   "execution_count": 13,
   "metadata": {},
   "outputs": [],
   "source": [
    "top20_positive = dict(Counter(positive_trigrams).most_common(20))\n",
    "top20_negative = dict(Counter(negative_trigrams).most_common(20))"
   ]
  },
  {
   "cell_type": "code",
   "execution_count": 14,
   "metadata": {},
   "outputs": [],
   "source": [
    "trigrams = pd.DataFrame(list(zip(top20_positive.keys(), top20_positive.values(), \\\n",
    "                                                  top20_negative.keys(),top20_negative.values())), \\\n",
    "                  columns =['positive_trigram','positive_count', 'negative_trigram', 'negative_count'])"
   ]
  },
  {
   "cell_type": "code",
   "execution_count": 15,
   "metadata": {},
   "outputs": [
    {
     "data": {
      "text/html": [
       "<div>\n",
       "<style scoped>\n",
       "    .dataframe tbody tr th:only-of-type {\n",
       "        vertical-align: middle;\n",
       "    }\n",
       "\n",
       "    .dataframe tbody tr th {\n",
       "        vertical-align: top;\n",
       "    }\n",
       "\n",
       "    .dataframe thead th {\n",
       "        text-align: right;\n",
       "    }\n",
       "</style>\n",
       "<table border=\"1\" class=\"dataframe\">\n",
       "  <thead>\n",
       "    <tr style=\"text-align: right;\">\n",
       "      <th></th>\n",
       "      <th>positive_trigram</th>\n",
       "      <th>positive_count</th>\n",
       "      <th>negative_trigram</th>\n",
       "      <th>negative_count</th>\n",
       "    </tr>\n",
       "  </thead>\n",
       "  <tbody>\n",
       "    <tr>\n",
       "      <th>0</th>\n",
       "      <td>chegou antes prazo</td>\n",
       "      <td>904</td>\n",
       "      <td>nao recebi produto</td>\n",
       "      <td>642</td>\n",
       "    </tr>\n",
       "    <tr>\n",
       "      <th>1</th>\n",
       "      <td>bem antes prazo</td>\n",
       "      <td>579</td>\n",
       "      <td>ainda nao recebi</td>\n",
       "      <td>313</td>\n",
       "    </tr>\n",
       "    <tr>\n",
       "      <th>2</th>\n",
       "      <td>entregue antes prazo</td>\n",
       "      <td>508</td>\n",
       "      <td>produto nao entregue</td>\n",
       "      <td>175</td>\n",
       "    </tr>\n",
       "    <tr>\n",
       "      <th>3</th>\n",
       "      <td>entrega antes prazo</td>\n",
       "      <td>367</td>\n",
       "      <td>produto nao chegou</td>\n",
       "      <td>113</td>\n",
       "    </tr>\n",
       "    <tr>\n",
       "      <th>4</th>\n",
       "      <td>produto chegou antes</td>\n",
       "      <td>354</td>\n",
       "      <td>produto ainda nao</td>\n",
       "      <td>111</td>\n",
       "    </tr>\n",
       "    <tr>\n",
       "      <th>5</th>\n",
       "      <td>chegou bem antes</td>\n",
       "      <td>346</td>\n",
       "      <td>ainda nao chegou</td>\n",
       "      <td>85</td>\n",
       "    </tr>\n",
       "    <tr>\n",
       "      <th>6</th>\n",
       "      <td>produto entregue antes</td>\n",
       "      <td>310</td>\n",
       "      <td>momento nao recebi</td>\n",
       "      <td>81</td>\n",
       "    </tr>\n",
       "    <tr>\n",
       "      <th>7</th>\n",
       "      <td>entrega super rapida</td>\n",
       "      <td>287</td>\n",
       "      <td>ainda nao entregue</td>\n",
       "      <td>75</td>\n",
       "    </tr>\n",
       "    <tr>\n",
       "      <th>8</th>\n",
       "      <td>produto otima qualidade</td>\n",
       "      <td>249</td>\n",
       "      <td>agora nao recebi</td>\n",
       "      <td>71</td>\n",
       "    </tr>\n",
       "    <tr>\n",
       "      <th>9</th>\n",
       "      <td>antes prazo previsto</td>\n",
       "      <td>225</td>\n",
       "      <td>produto pessima qualidade</td>\n",
       "      <td>53</td>\n",
       "    </tr>\n",
       "    <tr>\n",
       "      <th>10</th>\n",
       "      <td>antes prazo produto</td>\n",
       "      <td>191</td>\n",
       "      <td>recebi produto nao</td>\n",
       "      <td>48</td>\n",
       "    </tr>\n",
       "    <tr>\n",
       "      <th>11</th>\n",
       "      <td>antes data prevista</td>\n",
       "      <td>171</td>\n",
       "      <td>quero dinheiro volta</td>\n",
       "      <td>47</td>\n",
       "    </tr>\n",
       "    <tr>\n",
       "      <th>12</th>\n",
       "      <td>recebi antes prazo</td>\n",
       "      <td>171</td>\n",
       "      <td>nao recebi mercadoria</td>\n",
       "      <td>43</td>\n",
       "    </tr>\n",
       "    <tr>\n",
       "      <th>13</th>\n",
       "      <td>antes prazo recomendo</td>\n",
       "      <td>162</td>\n",
       "      <td>produto veio defeito</td>\n",
       "      <td>43</td>\n",
       "    </tr>\n",
       "    <tr>\n",
       "      <th>14</th>\n",
       "      <td>antes prazo estipulado</td>\n",
       "      <td>151</td>\n",
       "      <td>nao obtive resposta</td>\n",
       "      <td>43</td>\n",
       "    </tr>\n",
       "    <tr>\n",
       "      <th>15</th>\n",
       "      <td>entrega rapida produto</td>\n",
       "      <td>150</td>\n",
       "      <td>recebi produto ainda</td>\n",
       "      <td>37</td>\n",
       "    </tr>\n",
       "    <tr>\n",
       "      <th>16</th>\n",
       "      <td>entregue dentro prazo</td>\n",
       "      <td>145</td>\n",
       "      <td>hoje nao recebi</td>\n",
       "      <td>36</td>\n",
       "    </tr>\n",
       "    <tr>\n",
       "      <th>17</th>\n",
       "      <td>produto boa qualidade</td>\n",
       "      <td>144</td>\n",
       "      <td>recebi produto errado</td>\n",
       "      <td>35</td>\n",
       "    </tr>\n",
       "    <tr>\n",
       "      <th>18</th>\n",
       "      <td>produto entregue prazo</td>\n",
       "      <td>136</td>\n",
       "      <td>comprei dois produtos</td>\n",
       "      <td>35</td>\n",
       "    </tr>\n",
       "    <tr>\n",
       "      <th>19</th>\n",
       "      <td>produto chegou bem</td>\n",
       "      <td>134</td>\n",
       "      <td>produto veio errado</td>\n",
       "      <td>32</td>\n",
       "    </tr>\n",
       "  </tbody>\n",
       "</table>\n",
       "</div>"
      ],
      "text/plain": [
       "           positive_trigram  positive_count           negative_trigram  \\\n",
       "0        chegou antes prazo             904         nao recebi produto   \n",
       "1           bem antes prazo             579           ainda nao recebi   \n",
       "2      entregue antes prazo             508       produto nao entregue   \n",
       "3       entrega antes prazo             367         produto nao chegou   \n",
       "4      produto chegou antes             354          produto ainda nao   \n",
       "5          chegou bem antes             346           ainda nao chegou   \n",
       "6    produto entregue antes             310         momento nao recebi   \n",
       "7      entrega super rapida             287         ainda nao entregue   \n",
       "8   produto otima qualidade             249           agora nao recebi   \n",
       "9      antes prazo previsto             225  produto pessima qualidade   \n",
       "10      antes prazo produto             191         recebi produto nao   \n",
       "11      antes data prevista             171       quero dinheiro volta   \n",
       "12       recebi antes prazo             171      nao recebi mercadoria   \n",
       "13    antes prazo recomendo             162       produto veio defeito   \n",
       "14   antes prazo estipulado             151        nao obtive resposta   \n",
       "15   entrega rapida produto             150       recebi produto ainda   \n",
       "16    entregue dentro prazo             145            hoje nao recebi   \n",
       "17    produto boa qualidade             144      recebi produto errado   \n",
       "18   produto entregue prazo             136      comprei dois produtos   \n",
       "19       produto chegou bem             134        produto veio errado   \n",
       "\n",
       "    negative_count  \n",
       "0              642  \n",
       "1              313  \n",
       "2              175  \n",
       "3              113  \n",
       "4              111  \n",
       "5               85  \n",
       "6               81  \n",
       "7               75  \n",
       "8               71  \n",
       "9               53  \n",
       "10              48  \n",
       "11              47  \n",
       "12              43  \n",
       "13              43  \n",
       "14              43  \n",
       "15              37  \n",
       "16              36  \n",
       "17              35  \n",
       "18              35  \n",
       "19              32  "
      ]
     },
     "execution_count": 15,
     "metadata": {},
     "output_type": "execute_result"
    }
   ],
   "source": [
    "trigrams"
   ]
  },
  {
   "cell_type": "code",
   "execution_count": 16,
   "metadata": {},
   "outputs": [],
   "source": [
    "from googletrans import Translator\n",
    "from tqdm import tqdm"
   ]
  },
  {
   "cell_type": "code",
   "execution_count": null,
   "metadata": {},
   "outputs": [
    {
     "name": "stderr",
     "output_type": "stream",
     "text": [
      " 50%|█████████████████████████████████████████                                         | 10/20 [00:08<00:05,  1.74it/s]"
     ]
    }
   ],
   "source": [
    "for i in tqdm(range(trigrams.shape[0])) :\n",
    "    translator = Translator()\n",
    "    trigrams.iloc[i,0] = translator.translate(trigrams.iloc[i,0], src='Pt', dest='en').text\n",
    "    trigrams.iloc[i,2] = translator.translate(trigrams.iloc[i,2], src='Pt', dest='en').text"
   ]
  },
  {
   "cell_type": "code",
   "execution_count": null,
   "metadata": {},
   "outputs": [],
   "source": [
    "trigrams"
   ]
  },
  {
   "cell_type": "markdown",
   "metadata": {},
   "source": [
    "When looking at the table :\n",
    "\n",
    "- We got positive feedback from the customers mainly because the delivery service was great in terms of delivery time and because of the good product quality.\n",
    "- Among negative sentiments however, the customers complains about the  delivery service : they either received the wrong product or they had to answer the survey before even getting the product. Furthermore, they also complained a lot about the bad quality of the product and want a refund."
   ]
  },
  {
   "cell_type": "markdown",
   "metadata": {},
   "source": [
    "**Hence, during our Customer sentiment analysis, we noticed some directions where Olist can elaborate strategies for customer retentions. Although most customers seem happy, since the average score is 4.1, some of them are still not satisfied enough. Since we know that customer acquisition may be sometimes harder than customer retention, we advise Olist to pay attention to the sectors where customers are mainly satisfied (product quality and delivery service quality) and to be even more careful why in the same areas some customers are not satisfied enough. We may want to further this analysis, taking into account that there are lot of sellers in Olist platform, and it might be a good idea to spot which sellers do provide a lower quality product and delivery service to present to the stakeholders which will be in charge of taking actual decisions.**"
   ]
  },
  {
   "cell_type": "markdown",
   "metadata": {},
   "source": [
    "# 3 Silent customers"
   ]
  },
  {
   "cell_type": "markdown",
   "metadata": {},
   "source": [
    "Some customers didn't write a review. But why are they happy or mad?"
   ]
  },
  {
   "cell_type": "code",
   "execution_count": null,
   "metadata": {},
   "outputs": [],
   "source": [
    "silent_orders = orders[orders['comment_present'] == False]\n",
    "silent_orders = silent_orders[(silent_orders['review_score'] == 1) | (silent_orders['review_score'] == 5)]"
   ]
  },
  {
   "cell_type": "code",
   "execution_count": null,
   "metadata": {},
   "outputs": [],
   "source": [
    "silent_orders = silent_orders.astype({\"order_status\" : 'category', \\\n",
    "                       \"order_purchase_timestamp\" : 'datetime64[ns]', \"order_approved_at\" : 'datetime64[ns]', \\\n",
    "                       \"order_delivered_carrier_date\" : 'datetime64[ns]', \"order_delivered_customer_date\" : 'datetime64[ns]', \\\n",
    "                       \"order_estimated_delivery_date\" : 'datetime64[ns]', 'review_creation_date':'datetime64[ns]', \\\n",
    "                        \"review_answer_timestamp\" : 'datetime64[ns]', \"shipping_limit_date\" : 'datetime64[ns]', \\\n",
    "                        \"product_category_name\" : 'category', \n",
    "                       })"
   ]
  },
  {
   "cell_type": "code",
   "execution_count": null,
   "metadata": {},
   "outputs": [],
   "source": [
    "negative_silent_orders = silent_orders[silent_orders['review_score'] == 1]\n",
    "negative_silent_orders.order_status.unique(), negative_silent_orders.shape"
   ]
  },
  {
   "cell_type": "markdown",
   "metadata": {},
   "source": [
    "It seems that all orders have been submitted, but when ? Let's try to find out ! "
   ]
  },
  {
   "cell_type": "code",
   "execution_count": null,
   "metadata": {},
   "outputs": [],
   "source": [
    "late_deliveries = negative_silent_orders[negative_silent_orders['order_delivered_customer_date'] > negative_silent_orders['order_estimated_delivery_date']]"
   ]
  },
  {
   "cell_type": "code",
   "execution_count": null,
   "metadata": {},
   "outputs": [],
   "source": [
    "late_deliveries.shape"
   ]
  },
  {
   "cell_type": "markdown",
   "metadata": {},
   "source": [
    "Interesting ! It seems that half of the negative reviews which resulted in not answering to the customer satisfaction survey were orders which actually arrived but late . Let's look at the distribution of the delays."
   ]
  },
  {
   "cell_type": "code",
   "execution_count": null,
   "metadata": {},
   "outputs": [],
   "source": [
    "late_deliveries['delay'] = ((late_deliveries['order_delivered_customer_date'] - late_deliveries['order_estimated_delivery_date']).dt.days)"
   ]
  },
  {
   "cell_type": "code",
   "execution_count": null,
   "metadata": {},
   "outputs": [],
   "source": [
    "sns.boxplot(y='delay', data=late_deliveries)\n",
    "plt.title('Late deliveries Delays (days)')\n",
    "plt.show()"
   ]
  },
  {
   "cell_type": "markdown",
   "metadata": {},
   "source": [
    "Most of the late deliveries range between 5 and 15 days, but we observe lot of outliers which indicate that some orders where actually delivered more than 30 days, i.e a month, late !"
   ]
  },
  {
   "cell_type": "markdown",
   "metadata": {},
   "source": [
    "Let's have a look at the time they received the survey and the time they received the products."
   ]
  },
  {
   "cell_type": "code",
   "execution_count": null,
   "metadata": {},
   "outputs": [],
   "source": [
    "negative_silent_orders['delivery_to_survey_delay'] = ((negative_silent_orders['review_creation_date'] - negative_silent_orders['order_delivered_customer_date']).dt.days)"
   ]
  },
  {
   "cell_type": "code",
   "execution_count": null,
   "metadata": {},
   "outputs": [],
   "source": [
    "negative_silent_orders.delivery_to_survey_delay.hist(bins=50)\n",
    "plt.title('Distribution of delays : Creation of survey date for customers minus order delivered customer date (days)')\n",
    "plt.xlabel('Days')\n",
    "plt.ylabel('Count')\n",
    "plt.show()"
   ]
  },
  {
   "cell_type": "markdown",
   "metadata": {},
   "source": [
    "While a majority of the survey where sent when the clients actually received their orders, we notice that a non-negligeable part of those surveys where sent by the customers before they actually received their order. When reading the description of \"review_creation_Date\", it says that this is the date when the customer receives the order OR when estimated delivery date to the customer is due. Hence, it is the same problem as before, delivery time again..."
   ]
  },
  {
   "cell_type": "code",
   "execution_count": null,
   "metadata": {},
   "outputs": [],
   "source": []
  }
 ],
 "metadata": {
  "kernelspec": {
   "display_name": "Python [conda env:ada]",
   "language": "python",
   "name": "conda-env-ada-py"
  },
  "language_info": {
   "codemirror_mode": {
    "name": "ipython",
    "version": 3
   },
   "file_extension": ".py",
   "mimetype": "text/x-python",
   "name": "python",
   "nbconvert_exporter": "python",
   "pygments_lexer": "ipython3",
   "version": "3.6.6"
  }
 },
 "nbformat": 4,
 "nbformat_minor": 2
}
