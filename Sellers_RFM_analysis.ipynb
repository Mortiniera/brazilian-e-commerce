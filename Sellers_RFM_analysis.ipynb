{
 "cells": [
  {
   "cell_type": "code",
   "execution_count": 75,
   "metadata": {},
   "outputs": [],
   "source": [
    "import numpy as np\n",
    "import matplotlib.pyplot as plt\n",
    "import random\n",
    "import seaborn as sns\n",
    "import pandas as pd\n",
    "from collections import Counter\n",
    "pd.set_option('display.max_columns', 50)\n",
    "from googletrans import Translator\n",
    "from tqdm import tqdm\n",
    "import datetime"
   ]
  },
  {
   "cell_type": "code",
   "execution_count": 76,
   "metadata": {},
   "outputs": [],
   "source": [
    "orders = pd.read_csv('Data/Processed/orders.csv', encoding='utf-8')"
   ]
  },
  {
   "cell_type": "code",
   "execution_count": 77,
   "metadata": {},
   "outputs": [
    {
     "data": {
      "text/html": [
       "<div>\n",
       "<style scoped>\n",
       "    .dataframe tbody tr th:only-of-type {\n",
       "        vertical-align: middle;\n",
       "    }\n",
       "\n",
       "    .dataframe tbody tr th {\n",
       "        vertical-align: top;\n",
       "    }\n",
       "\n",
       "    .dataframe thead th {\n",
       "        text-align: right;\n",
       "    }\n",
       "</style>\n",
       "<table border=\"1\" class=\"dataframe\">\n",
       "  <thead>\n",
       "    <tr style=\"text-align: right;\">\n",
       "      <th></th>\n",
       "      <th>order_id</th>\n",
       "      <th>customer_id</th>\n",
       "      <th>order_status</th>\n",
       "      <th>order_purchase_timestamp</th>\n",
       "      <th>order_approved_at</th>\n",
       "      <th>order_delivered_carrier_date</th>\n",
       "      <th>order_delivered_customer_date</th>\n",
       "      <th>order_estimated_delivery_date</th>\n",
       "      <th>payment_sequential</th>\n",
       "      <th>payment_type</th>\n",
       "      <th>payment_installments</th>\n",
       "      <th>payment_value</th>\n",
       "      <th>customer_unique_id</th>\n",
       "      <th>customer_zip_code_prefix</th>\n",
       "      <th>customer_city</th>\n",
       "      <th>customer_state</th>\n",
       "      <th>review_id</th>\n",
       "      <th>review_score</th>\n",
       "      <th>review_comment_title</th>\n",
       "      <th>review_comment_message</th>\n",
       "      <th>review_creation_date</th>\n",
       "      <th>review_answer_timestamp</th>\n",
       "      <th>order_item_id</th>\n",
       "      <th>seller_id</th>\n",
       "      <th>product_id</th>\n",
       "      <th>shipping_limit_date</th>\n",
       "      <th>price</th>\n",
       "      <th>freight_value</th>\n",
       "      <th>product_category_name</th>\n",
       "      <th>product_name_lenght</th>\n",
       "      <th>product_description_lenght</th>\n",
       "      <th>product_photos_qty</th>\n",
       "      <th>product_weight_g</th>\n",
       "      <th>product_length_cm</th>\n",
       "      <th>product_height_cm</th>\n",
       "      <th>product_width_cm</th>\n",
       "    </tr>\n",
       "  </thead>\n",
       "  <tbody>\n",
       "    <tr>\n",
       "      <th>0</th>\n",
       "      <td>e481f51cbdc54678b7cc49136f2d6af7</td>\n",
       "      <td>9ef432eb6251297304e76186b10a928d</td>\n",
       "      <td>delivered</td>\n",
       "      <td>2017-10-02 10:56:33</td>\n",
       "      <td>2017-10-02 11:07:15</td>\n",
       "      <td>2017-10-04 19:55:00</td>\n",
       "      <td>2017-10-10 21:25:13</td>\n",
       "      <td>2017-10-18 00:00:00</td>\n",
       "      <td>1.0</td>\n",
       "      <td>credit_card</td>\n",
       "      <td>1.0</td>\n",
       "      <td>18.12</td>\n",
       "      <td>7c396fd4830fd04220f754e42b4e5bff</td>\n",
       "      <td>3149.0</td>\n",
       "      <td>sao paulo</td>\n",
       "      <td>SP</td>\n",
       "      <td>a54f0611adc9ed256b57ede6b6eb5114</td>\n",
       "      <td>4.0</td>\n",
       "      <td>O cliente não comentou</td>\n",
       "      <td>Não testei o produto ainda, mas ele veio corre...</td>\n",
       "      <td>2017-10-11 00:00:00</td>\n",
       "      <td>2017-10-12 03:43:48</td>\n",
       "      <td>1.0</td>\n",
       "      <td>3504c0cb71d7fa48d967e0e4c94d59d9</td>\n",
       "      <td>87285b34884572647811a353c7ac498a</td>\n",
       "      <td>2017-10-06 11:07:15</td>\n",
       "      <td>29.99</td>\n",
       "      <td>8.72</td>\n",
       "      <td>utilidades_domesticas</td>\n",
       "      <td>40.0</td>\n",
       "      <td>268.0</td>\n",
       "      <td>4.0</td>\n",
       "      <td>500.0</td>\n",
       "      <td>19.0</td>\n",
       "      <td>8.0</td>\n",
       "      <td>13.0</td>\n",
       "    </tr>\n",
       "    <tr>\n",
       "      <th>1</th>\n",
       "      <td>53cdb2fc8bc7dce0b6741e2150273451</td>\n",
       "      <td>b0830fb4747a6c6d20dea0b8c802d7ef</td>\n",
       "      <td>delivered</td>\n",
       "      <td>2018-07-24 20:41:37</td>\n",
       "      <td>2018-07-26 03:24:27</td>\n",
       "      <td>2018-07-26 14:31:00</td>\n",
       "      <td>2018-08-07 15:27:45</td>\n",
       "      <td>2018-08-13 00:00:00</td>\n",
       "      <td>1.0</td>\n",
       "      <td>boleto</td>\n",
       "      <td>1.0</td>\n",
       "      <td>141.46</td>\n",
       "      <td>af07308b275d755c9edb36a90c618231</td>\n",
       "      <td>47813.0</td>\n",
       "      <td>barreiras</td>\n",
       "      <td>BA</td>\n",
       "      <td>8d5266042046a06655c8db133d120ba5</td>\n",
       "      <td>4.0</td>\n",
       "      <td>Muito boa a loja</td>\n",
       "      <td>Muito bom o produto.</td>\n",
       "      <td>2018-08-08 00:00:00</td>\n",
       "      <td>2018-08-08 18:37:50</td>\n",
       "      <td>1.0</td>\n",
       "      <td>289cdb325fb7e7f891c38608bf9e0962</td>\n",
       "      <td>595fac2a385ac33a80bd5114aec74eb8</td>\n",
       "      <td>2018-07-30 03:24:27</td>\n",
       "      <td>118.70</td>\n",
       "      <td>22.76</td>\n",
       "      <td>perfumaria</td>\n",
       "      <td>29.0</td>\n",
       "      <td>178.0</td>\n",
       "      <td>1.0</td>\n",
       "      <td>400.0</td>\n",
       "      <td>19.0</td>\n",
       "      <td>13.0</td>\n",
       "      <td>19.0</td>\n",
       "    </tr>\n",
       "    <tr>\n",
       "      <th>2</th>\n",
       "      <td>47770eb9100c2d0c44946d9cf07ec65d</td>\n",
       "      <td>41ce2a54c0b03bf3443c3d931a367089</td>\n",
       "      <td>delivered</td>\n",
       "      <td>2018-08-08 08:38:49</td>\n",
       "      <td>2018-08-08 08:55:23</td>\n",
       "      <td>2018-08-08 13:50:00</td>\n",
       "      <td>2018-08-17 18:06:29</td>\n",
       "      <td>2018-09-04 00:00:00</td>\n",
       "      <td>1.0</td>\n",
       "      <td>credit_card</td>\n",
       "      <td>3.0</td>\n",
       "      <td>179.12</td>\n",
       "      <td>3a653a41f6f9fc3d2a113cf8398680e8</td>\n",
       "      <td>75265.0</td>\n",
       "      <td>vianopolis</td>\n",
       "      <td>GO</td>\n",
       "      <td>e73b67b67587f7644d5bd1a52deb1b01</td>\n",
       "      <td>5.0</td>\n",
       "      <td>O cliente não comentou</td>\n",
       "      <td>O cliente não comentou</td>\n",
       "      <td>2018-08-18 00:00:00</td>\n",
       "      <td>2018-08-22 19:07:58</td>\n",
       "      <td>1.0</td>\n",
       "      <td>4869f7a5dfa277a7dca6462dcf3b52b2</td>\n",
       "      <td>aa4383b373c6aca5d8797843e5594415</td>\n",
       "      <td>2018-08-13 08:55:23</td>\n",
       "      <td>159.90</td>\n",
       "      <td>19.22</td>\n",
       "      <td>automotivo</td>\n",
       "      <td>46.0</td>\n",
       "      <td>232.0</td>\n",
       "      <td>1.0</td>\n",
       "      <td>420.0</td>\n",
       "      <td>24.0</td>\n",
       "      <td>19.0</td>\n",
       "      <td>21.0</td>\n",
       "    </tr>\n",
       "    <tr>\n",
       "      <th>3</th>\n",
       "      <td>949d5b44dbf5de918fe9c16f97b45f8a</td>\n",
       "      <td>f88197465ea7920adcdbec7375364d82</td>\n",
       "      <td>delivered</td>\n",
       "      <td>2017-11-18 19:28:06</td>\n",
       "      <td>2017-11-18 19:45:59</td>\n",
       "      <td>2017-11-22 13:39:59</td>\n",
       "      <td>2017-12-02 00:28:42</td>\n",
       "      <td>2017-12-15 00:00:00</td>\n",
       "      <td>1.0</td>\n",
       "      <td>credit_card</td>\n",
       "      <td>1.0</td>\n",
       "      <td>72.20</td>\n",
       "      <td>7c142cf63193a1473d2e66489a9ae977</td>\n",
       "      <td>59296.0</td>\n",
       "      <td>sao goncalo do amarante</td>\n",
       "      <td>RN</td>\n",
       "      <td>359d03e676b3c069f62cadba8dd3f6e8</td>\n",
       "      <td>5.0</td>\n",
       "      <td>O cliente não comentou</td>\n",
       "      <td>O produto foi exatamente o que eu esperava e e...</td>\n",
       "      <td>2017-12-03 00:00:00</td>\n",
       "      <td>2017-12-05 19:21:58</td>\n",
       "      <td>1.0</td>\n",
       "      <td>66922902710d126a0e7d26b0e3805106</td>\n",
       "      <td>d0b61bfb1de832b15ba9d266ca96e5b0</td>\n",
       "      <td>2017-11-23 19:45:59</td>\n",
       "      <td>45.00</td>\n",
       "      <td>27.20</td>\n",
       "      <td>pet_shop</td>\n",
       "      <td>59.0</td>\n",
       "      <td>468.0</td>\n",
       "      <td>3.0</td>\n",
       "      <td>450.0</td>\n",
       "      <td>30.0</td>\n",
       "      <td>10.0</td>\n",
       "      <td>20.0</td>\n",
       "    </tr>\n",
       "    <tr>\n",
       "      <th>4</th>\n",
       "      <td>ad21c59c0840e6cb83a9ceb5573f8159</td>\n",
       "      <td>8ab97904e6daea8866dbdbc4fb7aad2c</td>\n",
       "      <td>delivered</td>\n",
       "      <td>2018-02-13 21:18:39</td>\n",
       "      <td>2018-02-13 22:20:29</td>\n",
       "      <td>2018-02-14 19:46:34</td>\n",
       "      <td>2018-02-16 18:17:02</td>\n",
       "      <td>2018-02-26 00:00:00</td>\n",
       "      <td>1.0</td>\n",
       "      <td>credit_card</td>\n",
       "      <td>1.0</td>\n",
       "      <td>28.62</td>\n",
       "      <td>72632f0f9dd73dfee390c9b22eb56dd6</td>\n",
       "      <td>9195.0</td>\n",
       "      <td>santo andre</td>\n",
       "      <td>SP</td>\n",
       "      <td>e50934924e227544ba8246aeb3770dd4</td>\n",
       "      <td>5.0</td>\n",
       "      <td>O cliente não comentou</td>\n",
       "      <td>O cliente não comentou</td>\n",
       "      <td>2018-02-17 00:00:00</td>\n",
       "      <td>2018-02-18 13:02:51</td>\n",
       "      <td>1.0</td>\n",
       "      <td>2c9e548be18521d1c43cde1c582c6de8</td>\n",
       "      <td>65266b2da20d04dbe00c5c2d3bb7859e</td>\n",
       "      <td>2018-02-19 20:31:37</td>\n",
       "      <td>19.90</td>\n",
       "      <td>8.72</td>\n",
       "      <td>papelaria</td>\n",
       "      <td>38.0</td>\n",
       "      <td>316.0</td>\n",
       "      <td>4.0</td>\n",
       "      <td>250.0</td>\n",
       "      <td>51.0</td>\n",
       "      <td>15.0</td>\n",
       "      <td>15.0</td>\n",
       "    </tr>\n",
       "  </tbody>\n",
       "</table>\n",
       "</div>"
      ],
      "text/plain": [
       "                           order_id                       customer_id  \\\n",
       "0  e481f51cbdc54678b7cc49136f2d6af7  9ef432eb6251297304e76186b10a928d   \n",
       "1  53cdb2fc8bc7dce0b6741e2150273451  b0830fb4747a6c6d20dea0b8c802d7ef   \n",
       "2  47770eb9100c2d0c44946d9cf07ec65d  41ce2a54c0b03bf3443c3d931a367089   \n",
       "3  949d5b44dbf5de918fe9c16f97b45f8a  f88197465ea7920adcdbec7375364d82   \n",
       "4  ad21c59c0840e6cb83a9ceb5573f8159  8ab97904e6daea8866dbdbc4fb7aad2c   \n",
       "\n",
       "  order_status order_purchase_timestamp    order_approved_at  \\\n",
       "0    delivered      2017-10-02 10:56:33  2017-10-02 11:07:15   \n",
       "1    delivered      2018-07-24 20:41:37  2018-07-26 03:24:27   \n",
       "2    delivered      2018-08-08 08:38:49  2018-08-08 08:55:23   \n",
       "3    delivered      2017-11-18 19:28:06  2017-11-18 19:45:59   \n",
       "4    delivered      2018-02-13 21:18:39  2018-02-13 22:20:29   \n",
       "\n",
       "  order_delivered_carrier_date order_delivered_customer_date  \\\n",
       "0          2017-10-04 19:55:00           2017-10-10 21:25:13   \n",
       "1          2018-07-26 14:31:00           2018-08-07 15:27:45   \n",
       "2          2018-08-08 13:50:00           2018-08-17 18:06:29   \n",
       "3          2017-11-22 13:39:59           2017-12-02 00:28:42   \n",
       "4          2018-02-14 19:46:34           2018-02-16 18:17:02   \n",
       "\n",
       "  order_estimated_delivery_date  payment_sequential payment_type  \\\n",
       "0           2017-10-18 00:00:00                 1.0  credit_card   \n",
       "1           2018-08-13 00:00:00                 1.0       boleto   \n",
       "2           2018-09-04 00:00:00                 1.0  credit_card   \n",
       "3           2017-12-15 00:00:00                 1.0  credit_card   \n",
       "4           2018-02-26 00:00:00                 1.0  credit_card   \n",
       "\n",
       "   payment_installments  payment_value                customer_unique_id  \\\n",
       "0                   1.0          18.12  7c396fd4830fd04220f754e42b4e5bff   \n",
       "1                   1.0         141.46  af07308b275d755c9edb36a90c618231   \n",
       "2                   3.0         179.12  3a653a41f6f9fc3d2a113cf8398680e8   \n",
       "3                   1.0          72.20  7c142cf63193a1473d2e66489a9ae977   \n",
       "4                   1.0          28.62  72632f0f9dd73dfee390c9b22eb56dd6   \n",
       "\n",
       "   customer_zip_code_prefix            customer_city customer_state  \\\n",
       "0                    3149.0                sao paulo             SP   \n",
       "1                   47813.0                barreiras             BA   \n",
       "2                   75265.0               vianopolis             GO   \n",
       "3                   59296.0  sao goncalo do amarante             RN   \n",
       "4                    9195.0              santo andre             SP   \n",
       "\n",
       "                          review_id  review_score    review_comment_title  \\\n",
       "0  a54f0611adc9ed256b57ede6b6eb5114           4.0  O cliente não comentou   \n",
       "1  8d5266042046a06655c8db133d120ba5           4.0        Muito boa a loja   \n",
       "2  e73b67b67587f7644d5bd1a52deb1b01           5.0  O cliente não comentou   \n",
       "3  359d03e676b3c069f62cadba8dd3f6e8           5.0  O cliente não comentou   \n",
       "4  e50934924e227544ba8246aeb3770dd4           5.0  O cliente não comentou   \n",
       "\n",
       "                              review_comment_message review_creation_date  \\\n",
       "0  Não testei o produto ainda, mas ele veio corre...  2017-10-11 00:00:00   \n",
       "1                               Muito bom o produto.  2018-08-08 00:00:00   \n",
       "2                             O cliente não comentou  2018-08-18 00:00:00   \n",
       "3  O produto foi exatamente o que eu esperava e e...  2017-12-03 00:00:00   \n",
       "4                             O cliente não comentou  2018-02-17 00:00:00   \n",
       "\n",
       "  review_answer_timestamp  order_item_id                         seller_id  \\\n",
       "0     2017-10-12 03:43:48            1.0  3504c0cb71d7fa48d967e0e4c94d59d9   \n",
       "1     2018-08-08 18:37:50            1.0  289cdb325fb7e7f891c38608bf9e0962   \n",
       "2     2018-08-22 19:07:58            1.0  4869f7a5dfa277a7dca6462dcf3b52b2   \n",
       "3     2017-12-05 19:21:58            1.0  66922902710d126a0e7d26b0e3805106   \n",
       "4     2018-02-18 13:02:51            1.0  2c9e548be18521d1c43cde1c582c6de8   \n",
       "\n",
       "                         product_id  shipping_limit_date   price  \\\n",
       "0  87285b34884572647811a353c7ac498a  2017-10-06 11:07:15   29.99   \n",
       "1  595fac2a385ac33a80bd5114aec74eb8  2018-07-30 03:24:27  118.70   \n",
       "2  aa4383b373c6aca5d8797843e5594415  2018-08-13 08:55:23  159.90   \n",
       "3  d0b61bfb1de832b15ba9d266ca96e5b0  2017-11-23 19:45:59   45.00   \n",
       "4  65266b2da20d04dbe00c5c2d3bb7859e  2018-02-19 20:31:37   19.90   \n",
       "\n",
       "   freight_value  product_category_name  product_name_lenght  \\\n",
       "0           8.72  utilidades_domesticas                 40.0   \n",
       "1          22.76             perfumaria                 29.0   \n",
       "2          19.22             automotivo                 46.0   \n",
       "3          27.20               pet_shop                 59.0   \n",
       "4           8.72              papelaria                 38.0   \n",
       "\n",
       "   product_description_lenght  product_photos_qty  product_weight_g  \\\n",
       "0                       268.0                 4.0             500.0   \n",
       "1                       178.0                 1.0             400.0   \n",
       "2                       232.0                 1.0             420.0   \n",
       "3                       468.0                 3.0             450.0   \n",
       "4                       316.0                 4.0             250.0   \n",
       "\n",
       "   product_length_cm  product_height_cm  product_width_cm  \n",
       "0               19.0                8.0              13.0  \n",
       "1               19.0               13.0              19.0  \n",
       "2               24.0               19.0              21.0  \n",
       "3               30.0               10.0              20.0  \n",
       "4               51.0               15.0              15.0  "
      ]
     },
     "execution_count": 77,
     "metadata": {},
     "output_type": "execute_result"
    }
   ],
   "source": [
    "orders.head()"
   ]
  },
  {
   "cell_type": "code",
   "execution_count": 78,
   "metadata": {},
   "outputs": [],
   "source": [
    "def validate(date_text):\n",
    "    try:\n",
    "        if date_text != datetime.datetime.strptime(date_text, '%Y-%m-%d %H:%M:%S').strftime('%Y-%m-%d %H:%M:%S'):\n",
    "            raise ValueError\n",
    "        return True\n",
    "    except ValueError:\n",
    "        return False\n",
    "    \n",
    "clean_orders = orders[orders['order_purchase_timestamp'].apply(validate) == True]\n",
    "clean_orders = clean_orders[clean_orders['order_approved_at'].apply(validate) == True]\n",
    "clean_orders = clean_orders[clean_orders['order_delivered_carrier_date'].apply(validate) == True]\n",
    "clean_orders = clean_orders[clean_orders['order_estimated_delivery_date'].apply(validate) == True]"
   ]
  },
  {
   "cell_type": "code",
   "execution_count": 79,
   "metadata": {},
   "outputs": [],
   "source": [
    "clean_orders = clean_orders.astype({\"order_status\" : 'category', \\\n",
    "                       \"order_purchase_timestamp\" : 'datetime64[ns]', \n",
    "                        \"order_approved_at\" : 'datetime64[ns]', \\\n",
    "                       \"order_delivered_carrier_date\" : 'datetime64[ns]', \n",
    "                        \"order_delivered_customer_date\" : 'datetime64[ns]', \\\n",
    "                       \"order_estimated_delivery_date\" : 'datetime64[ns]', \n",
    "                        'review_creation_date':'datetime64[ns]', \\\n",
    "                        \"review_answer_timestamp\" : 'datetime64[ns]', \"shipping_limit_date\" : 'datetime64[ns]', \\\n",
    "                        \"product_category_name\" : 'category', \n",
    "                       })"
   ]
  },
  {
   "cell_type": "markdown",
   "metadata": {},
   "source": [
    "## 1. RFM analysis of Olist's Sellers"
   ]
  },
  {
   "cell_type": "markdown",
   "metadata": {},
   "source": [
    "https://towardsdatascience.com/apply-rfm-principles-to-cluster-customers-with-k-means-fef9bcc9ab16"
   ]
  },
  {
   "cell_type": "markdown",
   "metadata": {},
   "source": [
    "Here, RFM stands for :\n",
    "- Recency — How recently did the seller sell an item?\n",
    "- Frequency — How often do they sell items ?\n",
    "- Monetary Value — How much do they bring in revenue ?\n",
    "\n",
    "Seller sales may be represented by a table with columns for the seller name, date of sale and sale value. One approach to RFM is to assign a score for each dimension on a scale from 1 to 5. The maximum score represents the preferred behavior and a formula could be used to calculate the three scores for each seller.\n",
    "\n",
    "- To calculate recency, we'll look into the invoice dates. We'll consider the last invoice as the most recent one. Then, we’ll subtract each day from the day after to calculate the other 'recencies'.\n",
    "\n",
    "- To calculate frequency, we'll sum the invoice numbers for each sellers. \n",
    "\n",
    "- For the monetary value, we will sum the total order price for each seller.\n",
    "\n",
    "Finally, we will segment the value range of each dimension to assign score from 1 to 5 to each seller."
   ]
  },
  {
   "cell_type": "code",
   "execution_count": 80,
   "metadata": {},
   "outputs": [
    {
     "name": "stdout",
     "output_type": "stream",
     "text": [
      "Most recent invoice is from:\n",
      "2018-08-29 15:10:26\n",
      "Least recent invoice is from :\n",
      "2016-10-04 09:43:32\n"
     ]
    }
   ],
   "source": [
    "print('Most recent invoice is from:')\n",
    "print(clean_orders['order_approved_at'].max())\n",
    "\n",
    "print('Least recent invoice is from :')\n",
    "print(clean_orders['order_approved_at'].min())\n",
    "\n",
    "\n",
    "lastDate = clean_orders['order_approved_at'].max()\n",
    "clean_orders['InvoiceDate'] = clean_orders['order_approved_at']"
   ]
  },
  {
   "cell_type": "code",
   "execution_count": 81,
   "metadata": {},
   "outputs": [],
   "source": [
    "clean_orders['Total_price'] = clean_orders['price'] + clean_orders['freight_value']"
   ]
  },
  {
   "cell_type": "code",
   "execution_count": 82,
   "metadata": {},
   "outputs": [
    {
     "data": {
      "text/html": [
       "<div>\n",
       "<style scoped>\n",
       "    .dataframe tbody tr th:only-of-type {\n",
       "        vertical-align: middle;\n",
       "    }\n",
       "\n",
       "    .dataframe tbody tr th {\n",
       "        vertical-align: top;\n",
       "    }\n",
       "\n",
       "    .dataframe thead th {\n",
       "        text-align: right;\n",
       "    }\n",
       "</style>\n",
       "<table border=\"1\" class=\"dataframe\">\n",
       "  <thead>\n",
       "    <tr style=\"text-align: right;\">\n",
       "      <th></th>\n",
       "      <th>recency</th>\n",
       "      <th>monetary</th>\n",
       "      <th>frequency</th>\n",
       "    </tr>\n",
       "    <tr>\n",
       "      <th>seller_id</th>\n",
       "      <th></th>\n",
       "      <th></th>\n",
       "      <th></th>\n",
       "    </tr>\n",
       "  </thead>\n",
       "  <tbody>\n",
       "    <tr>\n",
       "      <th>0015a82c2db000af6aaaf3ae2ecb0532</th>\n",
       "      <td>314</td>\n",
       "      <td>2748.06</td>\n",
       "      <td>3</td>\n",
       "    </tr>\n",
       "    <tr>\n",
       "      <th>001cca7ae9ae17fb1caed9dfb1094831</th>\n",
       "      <td>47</td>\n",
       "      <td>32968.37</td>\n",
       "      <td>194</td>\n",
       "    </tr>\n",
       "    <tr>\n",
       "      <th>002100f778ceb8431b7a1020ff7ab48f</th>\n",
       "      <td>139</td>\n",
       "      <td>2093.36</td>\n",
       "      <td>49</td>\n",
       "    </tr>\n",
       "    <tr>\n",
       "      <th>003554e2dce176b5555353e4f3555ac8</th>\n",
       "      <td>257</td>\n",
       "      <td>139.38</td>\n",
       "      <td>1</td>\n",
       "    </tr>\n",
       "    <tr>\n",
       "      <th>004c9cd9d87a3c30c522c48c4fc07416</th>\n",
       "      <td>116</td>\n",
       "      <td>22068.48</td>\n",
       "      <td>147</td>\n",
       "    </tr>\n",
       "  </tbody>\n",
       "</table>\n",
       "</div>"
      ],
      "text/plain": [
       "                                  recency  monetary  frequency\n",
       "seller_id                                                     \n",
       "0015a82c2db000af6aaaf3ae2ecb0532      314   2748.06          3\n",
       "001cca7ae9ae17fb1caed9dfb1094831       47  32968.37        194\n",
       "002100f778ceb8431b7a1020ff7ab48f      139   2093.36         49\n",
       "003554e2dce176b5555353e4f3555ac8      257    139.38          1\n",
       "004c9cd9d87a3c30c522c48c4fc07416      116  22068.48        147"
      ]
     },
     "execution_count": 82,
     "metadata": {},
     "output_type": "execute_result"
    }
   ],
   "source": [
    "rfmTable = clean_orders.groupby('seller_id').agg({'InvoiceDate': lambda x: (lastDate - x.max()).days, \n",
    "                                                  'Total_price': lambda x: x.sum()})\n",
    "\n",
    "rfmTable['InvoiceNo'] = clean_orders.groupby('seller_id').apply(lambda x : len(x))\n",
    "rfmTable['InvoiceDate'] = rfmTable['InvoiceDate'].astype(int)\n",
    "rfmTable.rename(columns={'InvoiceDate': 'recency', \n",
    "                         'InvoiceNo': 'frequency', \n",
    "                         'Total_price': 'monetary'}, inplace=True)\n",
    "\n",
    "rfmTable.head()"
   ]
  },
  {
   "cell_type": "markdown",
   "metadata": {},
   "source": [
    "Now, we have to calculate the scores.\n",
    "\n",
    "We order the data by frequency in descending mode. Then, we divide the number of sellers on the data set by 5. We assign a number from 5 to 1 to each one of the previously created segments. Same for monetary and recency columns too.\n",
    "\n",
    "For the recency column, since the most recent orders are better, we will order it as ascending."
   ]
  },
  {
   "cell_type": "code",
   "execution_count": 83,
   "metadata": {},
   "outputs": [],
   "source": [
    "# Create f_score\n",
    "\n",
    "f_score = []\n",
    "m_score = []\n",
    "r_score = []\n",
    "\n",
    "columns = ['frequency', 'monetary']\n",
    "scores_str = ['f_quartile', 'm_quartile']\n",
    "scores = [f_score, m_score]\n",
    "N = rfmTable.shape[0] #number of sellers\n",
    "\n",
    "for n in range(len(columns)):\n",
    "    # Order by column\n",
    "    rfmTable = rfmTable.sort_values(columns[n], ascending=False)\n",
    "    \n",
    "    # Create new index\n",
    "    refs = np.arange(N)\n",
    "    rfmTable['refs'] = list(refs)\n",
    "    \n",
    "    segment = int(N / 5)\n",
    "    # Add score\n",
    "    for i, row in rfmTable.iterrows():\n",
    "        if row['refs'] <= segment:\n",
    "            scores[n].append(5)\n",
    "        elif row['refs'] > segment and row['refs'] <= segment*2:\n",
    "            scores[n].append(4)\n",
    "        elif row['refs'] > segment*2 and row['refs'] <= segment*3:\n",
    "            scores[n].append(3)\n",
    "        elif row['refs'] > segment*3 and row['refs'] <= segment*4:\n",
    "            scores[n].append(2)\n",
    "        else: \n",
    "            scores[n].append(1)\n",
    "\n",
    "    # Create f_score column\n",
    "    rfmTable[scores_str[n]] = scores[n]\n",
    "    \n",
    "# For recency, we do the opposite: most recents are better, so we order as ascending\n",
    "rfmTable = rfmTable.sort_values('recency', ascending=True)\n",
    "    \n",
    "# Recreate index\n",
    "refs = np.arange(N)\n",
    "rfmTable['refs'] = refs\n",
    "    \n",
    "# Add score\n",
    "for i, row in rfmTable.iterrows():\n",
    "    if row['refs'] <= segment:\n",
    "        r_score.append(5)\n",
    "    elif row['refs'] > segment and row['refs'] <= segment*2:\n",
    "        r_score.append(4)\n",
    "    elif row['refs'] > segment*2 and row['refs'] <= segment*3:\n",
    "        r_score.append(3)\n",
    "    elif row['refs'] > segment*3 and row['refs'] <= segment*4:\n",
    "        r_score.append(2)\n",
    "    else: \n",
    "        r_score.append(1)\n",
    "\n",
    "# Create r_score column\n",
    "rfmTable['r_quartile'] = r_score"
   ]
  },
  {
   "cell_type": "code",
   "execution_count": 84,
   "metadata": {},
   "outputs": [
    {
     "data": {
      "text/html": [
       "<div>\n",
       "<style scoped>\n",
       "    .dataframe tbody tr th:only-of-type {\n",
       "        vertical-align: middle;\n",
       "    }\n",
       "\n",
       "    .dataframe tbody tr th {\n",
       "        vertical-align: top;\n",
       "    }\n",
       "\n",
       "    .dataframe thead th {\n",
       "        text-align: right;\n",
       "    }\n",
       "</style>\n",
       "<table border=\"1\" class=\"dataframe\">\n",
       "  <thead>\n",
       "    <tr style=\"text-align: right;\">\n",
       "      <th></th>\n",
       "      <th>recency</th>\n",
       "      <th>monetary</th>\n",
       "      <th>frequency</th>\n",
       "      <th>refs</th>\n",
       "      <th>f_quartile</th>\n",
       "      <th>m_quartile</th>\n",
       "      <th>r_quartile</th>\n",
       "    </tr>\n",
       "    <tr>\n",
       "      <th>seller_id</th>\n",
       "      <th></th>\n",
       "      <th></th>\n",
       "      <th></th>\n",
       "      <th></th>\n",
       "      <th></th>\n",
       "      <th></th>\n",
       "      <th></th>\n",
       "    </tr>\n",
       "  </thead>\n",
       "  <tbody>\n",
       "    <tr>\n",
       "      <th>c70c1b0d8ca86052f45a432a38b73958</th>\n",
       "      <td>0</td>\n",
       "      <td>39779.25</td>\n",
       "      <td>256</td>\n",
       "      <td>0</td>\n",
       "      <td>5</td>\n",
       "      <td>5</td>\n",
       "      <td>5</td>\n",
       "    </tr>\n",
       "    <tr>\n",
       "      <th>c731d18cea9bf687ffee82a241c25b11</th>\n",
       "      <td>0</td>\n",
       "      <td>4633.39</td>\n",
       "      <td>23</td>\n",
       "      <td>1</td>\n",
       "      <td>4</td>\n",
       "      <td>4</td>\n",
       "      <td>5</td>\n",
       "    </tr>\n",
       "    <tr>\n",
       "      <th>4e922959ae960d389249c378d1c939f5</th>\n",
       "      <td>0</td>\n",
       "      <td>52585.10</td>\n",
       "      <td>412</td>\n",
       "      <td>2</td>\n",
       "      <td>5</td>\n",
       "      <td>5</td>\n",
       "      <td>5</td>\n",
       "    </tr>\n",
       "    <tr>\n",
       "      <th>7dc8c42cc750eeafea6c85712ffee9bf</th>\n",
       "      <td>0</td>\n",
       "      <td>7594.72</td>\n",
       "      <td>41</td>\n",
       "      <td>3</td>\n",
       "      <td>5</td>\n",
       "      <td>5</td>\n",
       "      <td>5</td>\n",
       "    </tr>\n",
       "    <tr>\n",
       "      <th>54583ab379489add547fe47b628db589</th>\n",
       "      <td>0</td>\n",
       "      <td>2391.08</td>\n",
       "      <td>10</td>\n",
       "      <td>4</td>\n",
       "      <td>3</td>\n",
       "      <td>4</td>\n",
       "      <td>5</td>\n",
       "    </tr>\n",
       "  </tbody>\n",
       "</table>\n",
       "</div>"
      ],
      "text/plain": [
       "                                  recency  monetary  frequency  refs  \\\n",
       "seller_id                                                              \n",
       "c70c1b0d8ca86052f45a432a38b73958        0  39779.25        256     0   \n",
       "c731d18cea9bf687ffee82a241c25b11        0   4633.39         23     1   \n",
       "4e922959ae960d389249c378d1c939f5        0  52585.10        412     2   \n",
       "7dc8c42cc750eeafea6c85712ffee9bf        0   7594.72         41     3   \n",
       "54583ab379489add547fe47b628db589        0   2391.08         10     4   \n",
       "\n",
       "                                  f_quartile  m_quartile  r_quartile  \n",
       "seller_id                                                             \n",
       "c70c1b0d8ca86052f45a432a38b73958           5           5           5  \n",
       "c731d18cea9bf687ffee82a241c25b11           4           4           5  \n",
       "4e922959ae960d389249c378d1c939f5           5           5           5  \n",
       "7dc8c42cc750eeafea6c85712ffee9bf           5           5           5  \n",
       "54583ab379489add547fe47b628db589           3           4           5  "
      ]
     },
     "execution_count": 84,
     "metadata": {},
     "output_type": "execute_result"
    }
   ],
   "source": [
    "rfmTable.head()"
   ]
  },
  {
   "cell_type": "code",
   "execution_count": 85,
   "metadata": {},
   "outputs": [],
   "source": [
    "rfmTable['RFMScore'] = rfmTable.r_quartile.map(str) \\\n",
    "                            + rfmTable.f_quartile.map(str) \\\n",
    "                            + rfmTable.m_quartile.map(str)"
   ]
  },
  {
   "cell_type": "markdown",
   "metadata": {},
   "source": [
    "**Top 10 Sellers**"
   ]
  },
  {
   "cell_type": "code",
   "execution_count": 86,
   "metadata": {},
   "outputs": [],
   "source": [
    "top10 = rfmTable[rfmTable['RFMScore'] == '555'].sort_values('monetary', ascending=False).head(10)"
   ]
  },
  {
   "cell_type": "code",
   "execution_count": 87,
   "metadata": {},
   "outputs": [
    {
     "data": {
      "text/html": [
       "<div>\n",
       "<style scoped>\n",
       "    .dataframe tbody tr th:only-of-type {\n",
       "        vertical-align: middle;\n",
       "    }\n",
       "\n",
       "    .dataframe tbody tr th {\n",
       "        vertical-align: top;\n",
       "    }\n",
       "\n",
       "    .dataframe thead th {\n",
       "        text-align: right;\n",
       "    }\n",
       "</style>\n",
       "<table border=\"1\" class=\"dataframe\">\n",
       "  <thead>\n",
       "    <tr style=\"text-align: right;\">\n",
       "      <th></th>\n",
       "      <th>recency</th>\n",
       "      <th>monetary</th>\n",
       "      <th>frequency</th>\n",
       "      <th>refs</th>\n",
       "      <th>f_quartile</th>\n",
       "      <th>m_quartile</th>\n",
       "      <th>r_quartile</th>\n",
       "      <th>RFMScore</th>\n",
       "    </tr>\n",
       "    <tr>\n",
       "      <th>seller_id</th>\n",
       "      <th></th>\n",
       "      <th></th>\n",
       "      <th></th>\n",
       "      <th></th>\n",
       "      <th></th>\n",
       "      <th></th>\n",
       "      <th></th>\n",
       "      <th></th>\n",
       "    </tr>\n",
       "  </thead>\n",
       "  <tbody>\n",
       "    <tr>\n",
       "      <th>4869f7a5dfa277a7dca6462dcf3b52b2</th>\n",
       "      <td>4</td>\n",
       "      <td>247634.47</td>\n",
       "      <td>1115</td>\n",
       "      <td>192</td>\n",
       "      <td>5</td>\n",
       "      <td>5</td>\n",
       "      <td>5</td>\n",
       "      <td>555</td>\n",
       "    </tr>\n",
       "    <tr>\n",
       "      <th>4a3ca9315b744ce9f8e9374361493884</th>\n",
       "      <td>2</td>\n",
       "      <td>232423.08</td>\n",
       "      <td>1717</td>\n",
       "      <td>115</td>\n",
       "      <td>5</td>\n",
       "      <td>5</td>\n",
       "      <td>5</td>\n",
       "      <td>555</td>\n",
       "    </tr>\n",
       "    <tr>\n",
       "      <th>53243585a1d6dc2643021fd1853d8905</th>\n",
       "      <td>7</td>\n",
       "      <td>230797.02</td>\n",
       "      <td>348</td>\n",
       "      <td>431</td>\n",
       "      <td>5</td>\n",
       "      <td>5</td>\n",
       "      <td>5</td>\n",
       "      <td>555</td>\n",
       "    </tr>\n",
       "    <tr>\n",
       "      <th>fa1c13f2614d7b5c4749cbc52fecda94</th>\n",
       "      <td>0</td>\n",
       "      <td>200044.11</td>\n",
       "      <td>571</td>\n",
       "      <td>26</td>\n",
       "      <td>5</td>\n",
       "      <td>5</td>\n",
       "      <td>5</td>\n",
       "      <td>555</td>\n",
       "    </tr>\n",
       "    <tr>\n",
       "      <th>da8622b14eb17ae2831f4ac5b9dab84a</th>\n",
       "      <td>0</td>\n",
       "      <td>182482.13</td>\n",
       "      <td>1278</td>\n",
       "      <td>25</td>\n",
       "      <td>5</td>\n",
       "      <td>5</td>\n",
       "      <td>5</td>\n",
       "      <td>555</td>\n",
       "    </tr>\n",
       "    <tr>\n",
       "      <th>1025f0e2d44d7041d6cf58b6550e0bfa</th>\n",
       "      <td>3</td>\n",
       "      <td>171541.24</td>\n",
       "      <td>892</td>\n",
       "      <td>154</td>\n",
       "      <td>5</td>\n",
       "      <td>5</td>\n",
       "      <td>5</td>\n",
       "      <td>555</td>\n",
       "    </tr>\n",
       "    <tr>\n",
       "      <th>7a67c85e85bb2ce8582c35f2203ad736</th>\n",
       "      <td>7</td>\n",
       "      <td>160720.88</td>\n",
       "      <td>1131</td>\n",
       "      <td>426</td>\n",
       "      <td>5</td>\n",
       "      <td>5</td>\n",
       "      <td>5</td>\n",
       "      <td>555</td>\n",
       "    </tr>\n",
       "    <tr>\n",
       "      <th>955fee9216a65b617aa5c0531780ce60</th>\n",
       "      <td>0</td>\n",
       "      <td>156609.41</td>\n",
       "      <td>1254</td>\n",
       "      <td>20</td>\n",
       "      <td>5</td>\n",
       "      <td>5</td>\n",
       "      <td>5</td>\n",
       "      <td>555</td>\n",
       "    </tr>\n",
       "    <tr>\n",
       "      <th>6560211a19b47992c3666cc44a7e94c0</th>\n",
       "      <td>0</td>\n",
       "      <td>148994.13</td>\n",
       "      <td>1804</td>\n",
       "      <td>19</td>\n",
       "      <td>5</td>\n",
       "      <td>5</td>\n",
       "      <td>5</td>\n",
       "      <td>555</td>\n",
       "    </tr>\n",
       "    <tr>\n",
       "      <th>1f50f920176fa81dab994f9023523100</th>\n",
       "      <td>1</td>\n",
       "      <td>142022.61</td>\n",
       "      <td>1379</td>\n",
       "      <td>71</td>\n",
       "      <td>5</td>\n",
       "      <td>5</td>\n",
       "      <td>5</td>\n",
       "      <td>555</td>\n",
       "    </tr>\n",
       "  </tbody>\n",
       "</table>\n",
       "</div>"
      ],
      "text/plain": [
       "                                  recency   monetary  frequency  refs  \\\n",
       "seller_id                                                               \n",
       "4869f7a5dfa277a7dca6462dcf3b52b2        4  247634.47       1115   192   \n",
       "4a3ca9315b744ce9f8e9374361493884        2  232423.08       1717   115   \n",
       "53243585a1d6dc2643021fd1853d8905        7  230797.02        348   431   \n",
       "fa1c13f2614d7b5c4749cbc52fecda94        0  200044.11        571    26   \n",
       "da8622b14eb17ae2831f4ac5b9dab84a        0  182482.13       1278    25   \n",
       "1025f0e2d44d7041d6cf58b6550e0bfa        3  171541.24        892   154   \n",
       "7a67c85e85bb2ce8582c35f2203ad736        7  160720.88       1131   426   \n",
       "955fee9216a65b617aa5c0531780ce60        0  156609.41       1254    20   \n",
       "6560211a19b47992c3666cc44a7e94c0        0  148994.13       1804    19   \n",
       "1f50f920176fa81dab994f9023523100        1  142022.61       1379    71   \n",
       "\n",
       "                                  f_quartile  m_quartile  r_quartile RFMScore  \n",
       "seller_id                                                                      \n",
       "4869f7a5dfa277a7dca6462dcf3b52b2           5           5           5      555  \n",
       "4a3ca9315b744ce9f8e9374361493884           5           5           5      555  \n",
       "53243585a1d6dc2643021fd1853d8905           5           5           5      555  \n",
       "fa1c13f2614d7b5c4749cbc52fecda94           5           5           5      555  \n",
       "da8622b14eb17ae2831f4ac5b9dab84a           5           5           5      555  \n",
       "1025f0e2d44d7041d6cf58b6550e0bfa           5           5           5      555  \n",
       "7a67c85e85bb2ce8582c35f2203ad736           5           5           5      555  \n",
       "955fee9216a65b617aa5c0531780ce60           5           5           5      555  \n",
       "6560211a19b47992c3666cc44a7e94c0           5           5           5      555  \n",
       "1f50f920176fa81dab994f9023523100           5           5           5      555  "
      ]
     },
     "execution_count": 87,
     "metadata": {},
     "output_type": "execute_result"
    }
   ],
   "source": [
    "top10"
   ]
  },
  {
   "cell_type": "markdown",
   "metadata": {},
   "source": [
    "**Bottom 10 sellers**"
   ]
  },
  {
   "cell_type": "code",
   "execution_count": 88,
   "metadata": {},
   "outputs": [],
   "source": [
    "bottom10 = rfmTable[rfmTable['RFMScore'] == '111'].sort_values('monetary', ascending=True).head(10)"
   ]
  },
  {
   "cell_type": "code",
   "execution_count": 89,
   "metadata": {},
   "outputs": [
    {
     "data": {
      "text/html": [
       "<div>\n",
       "<style scoped>\n",
       "    .dataframe tbody tr th:only-of-type {\n",
       "        vertical-align: middle;\n",
       "    }\n",
       "\n",
       "    .dataframe tbody tr th {\n",
       "        vertical-align: top;\n",
       "    }\n",
       "\n",
       "    .dataframe thead th {\n",
       "        text-align: right;\n",
       "    }\n",
       "</style>\n",
       "<table border=\"1\" class=\"dataframe\">\n",
       "  <thead>\n",
       "    <tr style=\"text-align: right;\">\n",
       "      <th></th>\n",
       "      <th>recency</th>\n",
       "      <th>monetary</th>\n",
       "      <th>frequency</th>\n",
       "      <th>refs</th>\n",
       "      <th>f_quartile</th>\n",
       "      <th>m_quartile</th>\n",
       "      <th>r_quartile</th>\n",
       "      <th>RFMScore</th>\n",
       "    </tr>\n",
       "    <tr>\n",
       "      <th>seller_id</th>\n",
       "      <th></th>\n",
       "      <th></th>\n",
       "      <th></th>\n",
       "      <th></th>\n",
       "      <th></th>\n",
       "      <th></th>\n",
       "      <th></th>\n",
       "      <th></th>\n",
       "    </tr>\n",
       "  </thead>\n",
       "  <tbody>\n",
       "    <tr>\n",
       "      <th>77128dec4bec4878c37ab7d6169d6f26</th>\n",
       "      <td>531</td>\n",
       "      <td>15.22</td>\n",
       "      <td>1</td>\n",
       "      <td>2848</td>\n",
       "      <td>1</td>\n",
       "      <td>1</td>\n",
       "      <td>1</td>\n",
       "      <td>111</td>\n",
       "    </tr>\n",
       "    <tr>\n",
       "      <th>702835e4b785b67a084280efca355756</th>\n",
       "      <td>561</td>\n",
       "      <td>18.56</td>\n",
       "      <td>1</td>\n",
       "      <td>2890</td>\n",
       "      <td>1</td>\n",
       "      <td>1</td>\n",
       "      <td>1</td>\n",
       "      <td>111</td>\n",
       "    </tr>\n",
       "    <tr>\n",
       "      <th>ad14615bdd492b01b0d97922e87cb87f</th>\n",
       "      <td>564</td>\n",
       "      <td>19.21</td>\n",
       "      <td>1</td>\n",
       "      <td>2896</td>\n",
       "      <td>1</td>\n",
       "      <td>1</td>\n",
       "      <td>1</td>\n",
       "      <td>111</td>\n",
       "    </tr>\n",
       "    <tr>\n",
       "      <th>7ab0dd5487bab2dc835337b244f689fb</th>\n",
       "      <td>510</td>\n",
       "      <td>23.46</td>\n",
       "      <td>1</td>\n",
       "      <td>2824</td>\n",
       "      <td>1</td>\n",
       "      <td>1</td>\n",
       "      <td>1</td>\n",
       "      <td>111</td>\n",
       "    </tr>\n",
       "    <tr>\n",
       "      <th>c18309219e789960add0b2255ca4b091</th>\n",
       "      <td>267</td>\n",
       "      <td>24.00</td>\n",
       "      <td>1</td>\n",
       "      <td>2383</td>\n",
       "      <td>1</td>\n",
       "      <td>1</td>\n",
       "      <td>1</td>\n",
       "      <td>111</td>\n",
       "    </tr>\n",
       "    <tr>\n",
       "      <th>5b92bfa4120daa27c574daa2e386c693</th>\n",
       "      <td>555</td>\n",
       "      <td>24.96</td>\n",
       "      <td>1</td>\n",
       "      <td>2881</td>\n",
       "      <td>1</td>\n",
       "      <td>1</td>\n",
       "      <td>1</td>\n",
       "      <td>111</td>\n",
       "    </tr>\n",
       "    <tr>\n",
       "      <th>20d53aad4fe5ee93a64f8839609d3586</th>\n",
       "      <td>276</td>\n",
       "      <td>26.98</td>\n",
       "      <td>1</td>\n",
       "      <td>2417</td>\n",
       "      <td>1</td>\n",
       "      <td>1</td>\n",
       "      <td>1</td>\n",
       "      <td>111</td>\n",
       "    </tr>\n",
       "    <tr>\n",
       "      <th>9e25199f6ef7e7c347120ff175652c3b</th>\n",
       "      <td>520</td>\n",
       "      <td>27.02</td>\n",
       "      <td>1</td>\n",
       "      <td>2834</td>\n",
       "      <td>1</td>\n",
       "      <td>1</td>\n",
       "      <td>1</td>\n",
       "      <td>111</td>\n",
       "    </tr>\n",
       "    <tr>\n",
       "      <th>0f94588695d71662beec8d883ffacf09</th>\n",
       "      <td>546</td>\n",
       "      <td>27.59</td>\n",
       "      <td>1</td>\n",
       "      <td>2870</td>\n",
       "      <td>1</td>\n",
       "      <td>1</td>\n",
       "      <td>1</td>\n",
       "      <td>111</td>\n",
       "    </tr>\n",
       "    <tr>\n",
       "      <th>bee36b4f9a2b9fdcaff6ec05df202ed0</th>\n",
       "      <td>560</td>\n",
       "      <td>27.86</td>\n",
       "      <td>1</td>\n",
       "      <td>2888</td>\n",
       "      <td>1</td>\n",
       "      <td>1</td>\n",
       "      <td>1</td>\n",
       "      <td>111</td>\n",
       "    </tr>\n",
       "  </tbody>\n",
       "</table>\n",
       "</div>"
      ],
      "text/plain": [
       "                                  recency  monetary  frequency  refs  \\\n",
       "seller_id                                                              \n",
       "77128dec4bec4878c37ab7d6169d6f26      531     15.22          1  2848   \n",
       "702835e4b785b67a084280efca355756      561     18.56          1  2890   \n",
       "ad14615bdd492b01b0d97922e87cb87f      564     19.21          1  2896   \n",
       "7ab0dd5487bab2dc835337b244f689fb      510     23.46          1  2824   \n",
       "c18309219e789960add0b2255ca4b091      267     24.00          1  2383   \n",
       "5b92bfa4120daa27c574daa2e386c693      555     24.96          1  2881   \n",
       "20d53aad4fe5ee93a64f8839609d3586      276     26.98          1  2417   \n",
       "9e25199f6ef7e7c347120ff175652c3b      520     27.02          1  2834   \n",
       "0f94588695d71662beec8d883ffacf09      546     27.59          1  2870   \n",
       "bee36b4f9a2b9fdcaff6ec05df202ed0      560     27.86          1  2888   \n",
       "\n",
       "                                  f_quartile  m_quartile  r_quartile RFMScore  \n",
       "seller_id                                                                      \n",
       "77128dec4bec4878c37ab7d6169d6f26           1           1           1      111  \n",
       "702835e4b785b67a084280efca355756           1           1           1      111  \n",
       "ad14615bdd492b01b0d97922e87cb87f           1           1           1      111  \n",
       "7ab0dd5487bab2dc835337b244f689fb           1           1           1      111  \n",
       "c18309219e789960add0b2255ca4b091           1           1           1      111  \n",
       "5b92bfa4120daa27c574daa2e386c693           1           1           1      111  \n",
       "20d53aad4fe5ee93a64f8839609d3586           1           1           1      111  \n",
       "9e25199f6ef7e7c347120ff175652c3b           1           1           1      111  \n",
       "0f94588695d71662beec8d883ffacf09           1           1           1      111  \n",
       "bee36b4f9a2b9fdcaff6ec05df202ed0           1           1           1      111  "
      ]
     },
     "execution_count": 89,
     "metadata": {},
     "output_type": "execute_result"
    }
   ],
   "source": [
    "bottom10"
   ]
  },
  {
   "cell_type": "markdown",
   "metadata": {},
   "source": [
    "**Some statistics**"
   ]
  },
  {
   "cell_type": "code",
   "execution_count": 90,
   "metadata": {},
   "outputs": [
    {
     "name": "stdout",
     "output_type": "stream",
     "text": [
      "Best Sellers:  229\n",
      "Active Sellers: 592\n",
      "Big MoneyMaker:  592\n",
      "inactive Sellers:  593\n",
      "Inactive and Cheap Sellers:  169\n",
      "Total Number of sellers :  2958\n"
     ]
    }
   ],
   "source": [
    "print(\"Best Sellers: \",len(rfmTable[rfmTable['RFMScore'] == '555']))\n",
    "print('Active Sellers:', len(rfmTable[rfmTable['f_quartile'] == 5]))\n",
    "print(\"Big MoneyMaker: \",len(rfmTable[rfmTable['m_quartile']==5]))\n",
    "print('inactive Sellers: ',len(rfmTable[rfmTable['r_quartile']==1]))\n",
    "print('Inactive and Cheap Sellers: ',len(rfmTable[rfmTable['RFMScore']=='111']))\n",
    "print('Total Number of sellers : ', rfmTable.shape[0])"
   ]
  },
  {
   "cell_type": "markdown",
   "metadata": {},
   "source": [
    "## 2. Does our RFM analysis of the sellers reflect discussed topics during Customer Sentiment Analysis ? "
   ]
  },
  {
   "cell_type": "markdown",
   "metadata": {},
   "source": [
    "We will consider the best/worst sellers from the RFM analysis while considering only good reviews (score>=5) and bad reviews  (score <= 3) in order to point out problems."
   ]
  },
  {
   "cell_type": "code",
   "execution_count": 91,
   "metadata": {},
   "outputs": [],
   "source": [
    "best_sellers = list(rfmTable[rfmTable['RFMScore'] == '555'].reset_index().seller_id)\n",
    "best_sellers = clean_orders[clean_orders['seller_id'].apply(lambda x : x in best_sellers)]"
   ]
  },
  {
   "cell_type": "code",
   "execution_count": 92,
   "metadata": {},
   "outputs": [],
   "source": [
    "worst_sellers = list(rfmTable[rfmTable['RFMScore'] < '333'].reset_index().seller_id)\n",
    "worst_sellers = clean_orders[clean_orders['seller_id'].apply(lambda x : x in worst_sellers)]"
   ]
  },
  {
   "cell_type": "markdown",
   "metadata": {},
   "source": [
    "### 2.1 Do the worst sellers sell lower quality product than best sellers ? "
   ]
  },
  {
   "cell_type": "markdown",
   "metadata": {},
   "source": [
    "We use the trigram generated during customer sentiment analysis and try to find whether they appear here."
   ]
  },
  {
   "cell_type": "code",
   "execution_count": 93,
   "metadata": {},
   "outputs": [
    {
     "name": "stderr",
     "output_type": "stream",
     "text": [
      "C:\\Anaconda\\envs\\ada\\lib\\site-packages\\ipykernel\\__main__.py:1: SettingWithCopyWarning: \n",
      "A value is trying to be set on a copy of a slice from a DataFrame.\n",
      "Try using .loc[row_indexer,col_indexer] = value instead\n",
      "\n",
      "See the caveats in the documentation: http://pandas.pydata.org/pandas-docs/stable/indexing.html#indexing-view-versus-copy\n",
      "  if __name__ == '__main__':\n",
      "C:\\Anaconda\\envs\\ada\\lib\\site-packages\\ipykernel\\__main__.py:2: SettingWithCopyWarning: \n",
      "A value is trying to be set on a copy of a slice from a DataFrame.\n",
      "Try using .loc[row_indexer,col_indexer] = value instead\n",
      "\n",
      "See the caveats in the documentation: http://pandas.pydata.org/pandas-docs/stable/indexing.html#indexing-view-versus-copy\n",
      "  from ipykernel import kernelapp as app\n"
     ]
    },
    {
     "data": {
      "text/plain": [
       "(20503, 5478)"
      ]
     },
     "execution_count": 93,
     "metadata": {},
     "output_type": "execute_result"
    }
   ],
   "source": [
    "best_sellers['comment_present'] = best_sellers.review_comment_message != 'O cliente não comentou'\n",
    "worst_sellers['comment_present'] = worst_sellers.review_comment_message != 'O cliente não comentou'\n",
    "\n",
    "#Look only orders with customer review comment\n",
    "best_sellers_commented = best_sellers[best_sellers['comment_present'] == True]\n",
    "worst_sellers_commented = worst_sellers[worst_sellers['comment_present'] == True]\n",
    "\n",
    "N_best = best_sellers_commented.shape[0]\n",
    "N_worst = worst_sellers_commented.shape[0]\n",
    "\n",
    "N_best, N_worst"
   ]
  },
  {
   "cell_type": "markdown",
   "metadata": {},
   "source": [
    "Discussion : We notice that the difference in number of orders between best sellers and worst sellers is quite important, as expected, the latter having a quite low number of orders. Below is the total number of orders without comment filtering."
   ]
  },
  {
   "cell_type": "code",
   "execution_count": 94,
   "metadata": {},
   "outputs": [
    {
     "data": {
      "text/plain": [
       "(50279, 13186)"
      ]
     },
     "execution_count": 94,
     "metadata": {},
     "output_type": "execute_result"
    }
   ],
   "source": [
    "best_sellers.shape[0], worst_sellers.shape[0]"
   ]
  },
  {
   "cell_type": "code",
   "execution_count": 95,
   "metadata": {},
   "outputs": [],
   "source": [
    "bad_product_trigram = ['quero dinheiro volta', 'produto veio defeito', 'recebi produto errado', 'produto veio errado', 'produto pessima qualidade' ]"
   ]
  },
  {
   "cell_type": "code",
   "execution_count": 96,
   "metadata": {},
   "outputs": [],
   "source": [
    "n = 0\n",
    "for m in best_sellers_commented.review_comment_message : \n",
    "    for bad in bad_product_trigram :\n",
    "        if(bad in m) : \n",
    "            n+=1"
   ]
  },
  {
   "cell_type": "code",
   "execution_count": 97,
   "metadata": {},
   "outputs": [
    {
     "name": "stdout",
     "output_type": "stream",
     "text": [
      "We look at the best sellers identified from RFM analysis. There are 21 review messages pointing out the bad quality of the received products out of the 20503 commented review. Hence, there are 0.1 % of bad quality products.\n"
     ]
    }
   ],
   "source": [
    "print('We look at the best sellers identified from RFM analysis. There are {} review messages pointing out the bad quality of the received products out of the {} commented review. Hence, there are {} % of bad quality products.'\\\n",
    "      .format(n, N_best, round(n/N_best * 100, 2)))"
   ]
  },
  {
   "cell_type": "code",
   "execution_count": 98,
   "metadata": {},
   "outputs": [],
   "source": [
    "n = 0\n",
    "for m in worst_sellers_commented.review_comment_message : \n",
    "    for bad in bad_product_trigram :\n",
    "        if(bad in m) : \n",
    "            n+=1"
   ]
  },
  {
   "cell_type": "code",
   "execution_count": 99,
   "metadata": {},
   "outputs": [
    {
     "name": "stdout",
     "output_type": "stream",
     "text": [
      "We look at the worst sellers identified from RFM analysis. There are 8 review messages pointing out the bad quality of the received products out of the 5478 commented review. Hence, there are 0.15 % of bad quality products.\n"
     ]
    }
   ],
   "source": [
    "print('We look at the worst sellers identified from RFM analysis. There are {} review messages pointing out the bad quality of the received products out of the {} commented review. Hence, there are {} % of bad quality products.'\\\n",
    "      .format(n, N_worst, round(n/N_worst * 100, 2)))"
   ]
  },
  {
   "cell_type": "markdown",
   "metadata": {},
   "source": [
    "**When looking at the numbers, although worst sellers sell less in magnitude, which has to be a consequence of bad customer experience, it seems that they tend to sell more low quality products than best sellers.**"
   ]
  },
  {
   "cell_type": "markdown",
   "metadata": {},
   "source": [
    "### 2.2 Is the delivery delay an important element in determining whether a seller is good or not ? "
   ]
  },
  {
   "cell_type": "markdown",
   "metadata": {},
   "source": [
    "#### 2.2.3 Can Customer sentiment analysis tell us something ? "
   ]
  },
  {
   "cell_type": "code",
   "execution_count": 100,
   "metadata": {},
   "outputs": [],
   "source": [
    "late_deliveries_trigram = ['nao recebi produto', 'ainda nao recebi', 'produto nao entregue', 'produto nao chegou', 'produto ainda nao', \n",
    "                          'ainda nao chegou', 'momento nao recebi', 'ainda nao entregue', 'agora nao recebi', 'recebi produto nao',\n",
    "                          'nao recebi mercadoria', 'recebi produto ainda', 'hoje nao recebi']"
   ]
  },
  {
   "cell_type": "code",
   "execution_count": 101,
   "metadata": {},
   "outputs": [],
   "source": [
    "n = 0\n",
    "for m in best_sellers_commented.review_comment_message : \n",
    "    for l in late_deliveries_trigram :\n",
    "        if(l in m) : \n",
    "            n+=1"
   ]
  },
  {
   "cell_type": "code",
   "execution_count": 102,
   "metadata": {},
   "outputs": [
    {
     "name": "stdout",
     "output_type": "stream",
     "text": [
      "We look at the best sellers identified from RFM analysis. There are 37 review messages pointing out late deliveries out of the 20503 commented review. Hence, there are 0.18 % of orders which arrived late.\n"
     ]
    }
   ],
   "source": [
    "print('We look at the best sellers identified from RFM analysis. There are {} review messages pointing out late deliveries out of the {} commented review. Hence, there are {} % of orders which arrived late.'\\\n",
    "      .format(n, N_best, round(n/N_best * 100, 2)))"
   ]
  },
  {
   "cell_type": "code",
   "execution_count": 103,
   "metadata": {},
   "outputs": [],
   "source": [
    "n = 0\n",
    "for m in worst_sellers_commented.review_comment_message : \n",
    "    for l in late_deliveries_trigram :\n",
    "        if(l in m) : \n",
    "            n+=1"
   ]
  },
  {
   "cell_type": "code",
   "execution_count": 104,
   "metadata": {},
   "outputs": [
    {
     "name": "stdout",
     "output_type": "stream",
     "text": [
      "We look at the worst sellers identified from RFM analysis. There are 10 review messages pointing out late deliveries out of the 5478 commented review. Hence, there are 0.18 % of orders which arrived late.\n"
     ]
    }
   ],
   "source": [
    "print('We look at the worst sellers identified from RFM analysis. There are {} review messages pointing out late deliveries out of the {} commented review. Hence, there are {} % of orders which arrived late.'\\\n",
    "      .format(n, N_worst, round(n/N_worst * 100, 2)))"
   ]
  },
  {
   "cell_type": "markdown",
   "metadata": {},
   "source": [
    "#### 2.2.3 Can silent customers tell us more about it ? "
   ]
  },
  {
   "cell_type": "markdown",
   "metadata": {},
   "source": [
    "Let's have a look at the distribution of late deliveries in days between best and worst sellers.\n",
    "An order is identified being late when the 'order_delivered_customer_date' is bigger than the 'order_estimated_delivery_date'. Hence, when their difference is positive."
   ]
  },
  {
   "cell_type": "code",
   "execution_count": 105,
   "metadata": {},
   "outputs": [
    {
     "name": "stderr",
     "output_type": "stream",
     "text": [
      "C:\\Anaconda\\envs\\ada\\lib\\site-packages\\ipykernel\\__main__.py:1: SettingWithCopyWarning: \n",
      "A value is trying to be set on a copy of a slice from a DataFrame.\n",
      "Try using .loc[row_indexer,col_indexer] = value instead\n",
      "\n",
      "See the caveats in the documentation: http://pandas.pydata.org/pandas-docs/stable/indexing.html#indexing-view-versus-copy\n",
      "  if __name__ == '__main__':\n"
     ]
    }
   ],
   "source": [
    "best_sellers['late_delivery'] = (best_sellers['order_delivered_customer_date'] - best_sellers['order_estimated_delivery_date']).dt.days"
   ]
  },
  {
   "cell_type": "code",
   "execution_count": 106,
   "metadata": {},
   "outputs": [
    {
     "name": "stderr",
     "output_type": "stream",
     "text": [
      "C:\\Anaconda\\envs\\ada\\lib\\site-packages\\ipykernel\\__main__.py:1: SettingWithCopyWarning: \n",
      "A value is trying to be set on a copy of a slice from a DataFrame.\n",
      "Try using .loc[row_indexer,col_indexer] = value instead\n",
      "\n",
      "See the caveats in the documentation: http://pandas.pydata.org/pandas-docs/stable/indexing.html#indexing-view-versus-copy\n",
      "  if __name__ == '__main__':\n"
     ]
    }
   ],
   "source": [
    "worst_sellers['late_delivery'] = (worst_sellers['order_delivered_customer_date'] - worst_sellers['order_estimated_delivery_date']).dt.days"
   ]
  },
  {
   "cell_type": "code",
   "execution_count": 107,
   "metadata": {},
   "outputs": [
    {
     "data": {
      "image/png": "[encoded data removed]",
      "text/plain": [
       "<Figure size 864x360 with 2 Axes>"
      ]
     },
     "metadata": {
      "needs_background": "light"
     },
     "output_type": "display_data"
    }
   ],
   "source": [
    "dims = (12, 5)\n",
    "fig, ax =plt.subplots(1,2,figsize=dims, sharex=True)\n",
    "fig.text(0.5, 0.04, 'Delay (days)', ha='center')\n",
    "fig.text(0.04, 0.5, 'Number of orders', va='center', rotation='vertical')\n",
    "\n",
    "#fig.suptitle('Distribution of late deliveries in days between good (left) and bad (right) review orders for best sellers')\n",
    "\n",
    "best_sellers[best_sellers['review_score'] >= 4].late_delivery.hist(bins=100, ax=ax[0], color = \"green\", lw=0)\n",
    "best_sellers[best_sellers['review_score'] < 4].late_delivery.hist(bins=100, ax=ax[1], color = \"red\", lw=0)\n",
    "plt.savefig(fname='late_deliveries_best_sellers.eps',format='eps')\n",
    "plt.show()"
   ]
  },
  {
   "cell_type": "code",
   "execution_count": 108,
   "metadata": {},
   "outputs": [
    {
     "data": {
      "image/png": "[encoded data removed]",
      "text/plain": [
       "<Figure size 864x360 with 2 Axes>"
      ]
     },
     "metadata": {
      "needs_background": "light"
     },
     "output_type": "display_data"
    }
   ],
   "source": [
    "dims = (12, 5)\n",
    "fig, ax =plt.subplots(1,2,figsize=dims, sharex=True)\n",
    "fig.text(0.5, 0.04, 'Delay (days)', ha='center')\n",
    "fig.text(0.04, 0.5, 'Number of orders', va='center', rotation='vertical')\n",
    "\n",
    "#fig.suptitle('Distribution of late deliveries in days between good (left) and bad (right) review orders for worst sellers')\n",
    "\n",
    "worst_sellers[worst_sellers['review_score'] >= 4].late_delivery.hist(bins=100, ax=ax[0], color = \"green\", lw=0)\n",
    "worst_sellers[worst_sellers['review_score'] < 4].late_delivery.hist(bins=100, ax=ax[1], color = \"red\", lw=0)\n",
    "plt.savefig(fname='late_deliveries_worst_sellers.eps',format='eps')\n",
    "plt.show()"
   ]
  },
  {
   "cell_type": "markdown",
   "metadata": {},
   "source": [
    "Although the distribution are quite similar between best and worst sellers, we notice that within best and worst sellers, late delivery is actually an important element making the decision for an order review score."
   ]
  },
  {
   "cell_type": "markdown",
   "metadata": {},
   "source": [
    "## 3. Spotting the late delivers !"
   ]
  },
  {
   "cell_type": "markdown",
   "metadata": {},
   "source": [
    "While during the first part we identified best and worst sellers, the rfm analysis did not take into account customer sentiment analysis. Using our previous conclusion about this, one might be interested to further seller analysis by spotting the sellers who often delivers orders late. This can be used as a driver for stakeholders to either warn best sellers who gets too confident about their position and popularity at the expense of olist platform popularity when not taking into account customer reviews, or by discarding those bad sellers who do not bring that much value to the company and at the same time tarnish the reputation of the platform."
   ]
  },
  {
   "cell_type": "code",
   "execution_count": 109,
   "metadata": {},
   "outputs": [
    {
     "name": "stdout",
     "output_type": "stream",
     "text": [
      "There is 0 sellers among best ones with an average delivery delay of more than 1 day\n"
     ]
    }
   ],
   "source": [
    "best_sellers_delivery = best_sellers.groupby('seller_id').agg({'late_delivery' : 'mean'})\n",
    "late_delivers = best_sellers_delivery[best_sellers_delivery['late_delivery'] >= 1]\n",
    "print('There is {} sellers among best ones with an average delivery delay of more than 1 day'.format(late_delivers.shape[0]))"
   ]
  },
  {
   "cell_type": "code",
   "execution_count": 110,
   "metadata": {},
   "outputs": [
    {
     "name": "stdout",
     "output_type": "stream",
     "text": [
      "There are 74 sellers among worst ones with an average delivery delay of more than 1 day\n"
     ]
    }
   ],
   "source": [
    "worst_sellers_delivery = worst_sellers.groupby('seller_id').agg({'late_delivery' : 'mean'})\n",
    "late_delivers = worst_sellers_delivery[worst_sellers_delivery['late_delivery'] > 1]\n",
    "print('There are {} sellers among worst ones with an average delivery delay of more than 1 day'.format(late_delivers.shape[0]))"
   ]
  },
  {
   "cell_type": "code",
   "execution_count": 111,
   "metadata": {},
   "outputs": [
    {
     "data": {
      "text/html": [
       "<div>\n",
       "<style scoped>\n",
       "    .dataframe tbody tr th:only-of-type {\n",
       "        vertical-align: middle;\n",
       "    }\n",
       "\n",
       "    .dataframe tbody tr th {\n",
       "        vertical-align: top;\n",
       "    }\n",
       "\n",
       "    .dataframe thead th {\n",
       "        text-align: right;\n",
       "    }\n",
       "</style>\n",
       "<table border=\"1\" class=\"dataframe\">\n",
       "  <thead>\n",
       "    <tr style=\"text-align: right;\">\n",
       "      <th></th>\n",
       "      <th>late_delivery</th>\n",
       "    </tr>\n",
       "    <tr>\n",
       "      <th>seller_id</th>\n",
       "      <th></th>\n",
       "    </tr>\n",
       "  </thead>\n",
       "  <tbody>\n",
       "    <tr>\n",
       "      <th>df683dfda87bf71ac3fc63063fba369d</th>\n",
       "      <td>167.000000</td>\n",
       "    </tr>\n",
       "    <tr>\n",
       "      <th>a154d7316f158bb42e6fa18bbe3afd3a</th>\n",
       "      <td>42.000000</td>\n",
       "    </tr>\n",
       "    <tr>\n",
       "      <th>e09887ca8c7bf8a4621ce481820414ef</th>\n",
       "      <td>41.000000</td>\n",
       "    </tr>\n",
       "    <tr>\n",
       "      <th>8e670472e453ba34a379331513d6aab1</th>\n",
       "      <td>35.000000</td>\n",
       "    </tr>\n",
       "    <tr>\n",
       "      <th>4fb41dff7c50136976d1a5cf004a42e2</th>\n",
       "      <td>33.000000</td>\n",
       "    </tr>\n",
       "    <tr>\n",
       "      <th>8629a7efec1aab257e58cda559f03ba7</th>\n",
       "      <td>33.000000</td>\n",
       "    </tr>\n",
       "    <tr>\n",
       "      <th>6f1a1263039c76e68f40a8e536b1da6a</th>\n",
       "      <td>31.000000</td>\n",
       "    </tr>\n",
       "    <tr>\n",
       "      <th>eebb3372362aa9a46975164bed19a7e7</th>\n",
       "      <td>27.000000</td>\n",
       "    </tr>\n",
       "    <tr>\n",
       "      <th>391bbd13b6452244774beff1824006ed</th>\n",
       "      <td>24.000000</td>\n",
       "    </tr>\n",
       "    <tr>\n",
       "      <th>9b522ba7eae9e1d04082f267144583cc</th>\n",
       "      <td>23.666667</td>\n",
       "    </tr>\n",
       "  </tbody>\n",
       "</table>\n",
       "</div>"
      ],
      "text/plain": [
       "                                  late_delivery\n",
       "seller_id                                      \n",
       "df683dfda87bf71ac3fc63063fba369d     167.000000\n",
       "a154d7316f158bb42e6fa18bbe3afd3a      42.000000\n",
       "e09887ca8c7bf8a4621ce481820414ef      41.000000\n",
       "8e670472e453ba34a379331513d6aab1      35.000000\n",
       "4fb41dff7c50136976d1a5cf004a42e2      33.000000\n",
       "8629a7efec1aab257e58cda559f03ba7      33.000000\n",
       "6f1a1263039c76e68f40a8e536b1da6a      31.000000\n",
       "eebb3372362aa9a46975164bed19a7e7      27.000000\n",
       "391bbd13b6452244774beff1824006ed      24.000000\n",
       "9b522ba7eae9e1d04082f267144583cc      23.666667"
      ]
     },
     "execution_count": 111,
     "metadata": {},
     "output_type": "execute_result"
    }
   ],
   "source": [
    "late_delivers.sort_values(by='late_delivery', ascending = False).head(10)"
   ]
  },
  {
   "cell_type": "code",
   "execution_count": null,
   "metadata": {},
   "outputs": [],
   "source": []
  }
 ],
 "metadata": {
  "kernelspec": {
   "display_name": "Python [conda env:ada]",
   "language": "python",
   "name": "conda-env-ada-py"
  },
  "language_info": {
   "codemirror_mode": {
    "name": "ipython",
    "version": 3
   },
   "file_extension": ".py",
   "mimetype": "text/x-python",
   "name": "python",
   "nbconvert_exporter": "python",
   "pygments_lexer": "ipython3",
   "version": "3.6.6"
  }
 },
 "nbformat": 4,
 "nbformat_minor": 2
}
